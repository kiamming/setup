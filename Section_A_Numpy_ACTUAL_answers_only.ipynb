{
 "cells": [
  {
   "cell_type": "markdown",
   "metadata": {
    "colab_type": "text",
    "id": "lq_GvhHlLzcz"
   },
   "source": [
    "# Section A: Numpy\n",
    "\n",
    "This section is composed of 5 parts with a total of 30 marks. You will be given empty code cells and the expected output. The final submission will be this Jupyter notebook with the code filled in.\n",
    "\n",
    "1. Reshaping matrices and performing mathematical operations (5 marks)\n",
    "2. For loop and randomization (5 marks)\n",
    "3. Stacking and basic statistics (5 marks)\n",
    "4. Slicing (6 marks)\n",
    "5. Filtering (9 marks)"
   ]
  },
  {
   "cell_type": "markdown",
   "metadata": {
    "colab_type": "text",
    "id": "2OukiPnjMEkh"
   },
   "source": [
    "## Import Libraries"
   ]
  },
  {
   "cell_type": "code",
   "execution_count": null,
   "metadata": {
    "colab": {},
    "colab_type": "code",
    "id": "urUn9G5K-9XY"
   },
   "outputs": [],
   "source": [
    "import numpy as np"
   ]
  },
  {
   "cell_type": "markdown",
   "metadata": {
    "colab_type": "text",
    "id": "MlK30-RpMUex"
   },
   "source": [
    "### Q1. Reshaping matrices and performing mathematical operations (Total: 5 marks)"
   ]
  },
  {
   "cell_type": "markdown",
   "metadata": {
    "colab_type": "text",
    "id": "MMd7HRfANEGA"
   },
   "source": [
    "### numpy.arange\n",
    "\n",
    "The definition of numpy.arange is given as such:\n",
    "\n",
    "*numpy.arange([start, ]stop, [step, ]dtype=None)*\n",
    "\n",
    "**1.1   Create a numpy array A containing the numbers 0 to 11 using arange(stop), and reshape it into a 4-by-3 matrix. Print it. (2 marks)**\n",
    "\n"
   ]
  },
  {
   "cell_type": "code",
   "execution_count": null,
   "metadata": {
    "colab": {},
    "colab_type": "code",
    "id": "BhrlFTCPMpi0",
    "outputId": "8a8ed202-247b-4098-8649-408883b8fdad"
   },
   "outputs": [
    {
     "data": {
      "text/plain": [
       "array([[ 0,  1,  2],\n",
       "       [ 3,  4,  5],\n",
       "       [ 6,  7,  8],\n",
       "       [ 9, 10, 11]])"
      ]
     },
     "execution_count": 3,
     "metadata": {
      "tags": []
     },
     "output_type": "execute_result"
    }
   ],
   "source": []
  },
  {
   "cell_type": "markdown",
   "metadata": {
    "colab_type": "text",
    "id": "EMqxib3AN2ev"
   },
   "source": [
    "**1.2 Create a numpy array B starting from -2, ending at 8, at a step of 3, such that it contains the elements, -2, 1, 4 and 7. Print it. (1 mark)**"
   ]
  },
  {
   "cell_type": "code",
   "execution_count": null,
   "metadata": {
    "colab": {},
    "colab_type": "code",
    "id": "g_ItgOHMMxNd",
    "outputId": "ab212044-d8a9-4d45-e073-6a0bdeb0d1ee"
   },
   "outputs": [
    {
     "data": {
      "text/plain": [
       "array([-2,  1,  4,  7])"
      ]
     },
     "execution_count": 11,
     "metadata": {
      "tags": []
     },
     "output_type": "execute_result"
    }
   ],
   "source": []
  },
  {
   "cell_type": "markdown",
   "metadata": {
    "colab_type": "text",
    "id": "3QgpHKSbOU5G"
   },
   "source": [
    "**1.3 Reshape B such that it is has a shape of (1,4), overwriting the original variable. Print out the reshaped B. (1 mark)**"
   ]
  },
  {
   "cell_type": "code",
   "execution_count": null,
   "metadata": {
    "colab": {},
    "colab_type": "code",
    "id": "ZfUuY68UO1-8",
    "outputId": "3394e180-b761-4b26-f348-0b07820cdae8"
   },
   "outputs": [
    {
     "data": {
      "text/plain": [
       "array([[-2,  1,  4,  7]])"
      ]
     },
     "execution_count": 13,
     "metadata": {
      "tags": []
     },
     "output_type": "execute_result"
    }
   ],
   "source": []
  },
  {
   "cell_type": "markdown",
   "metadata": {
    "colab_type": "text",
    "id": "nDsfpCpkO6qR"
   },
   "source": [
    "**1.4 Performing a dot product of B and A in that order and print out the result. (1 mark)**"
   ]
  },
  {
   "cell_type": "code",
   "execution_count": null,
   "metadata": {
    "colab": {},
    "colab_type": "code",
    "id": "0aBcXOcKM7K1",
    "outputId": "4ef90f20-00f2-48ad-ee77-3bdc09d590af"
   },
   "outputs": [
    {
     "data": {
      "text/plain": [
       "array([[ 90, 100, 110]])"
      ]
     },
     "execution_count": 14,
     "metadata": {
      "tags": []
     },
     "output_type": "execute_result"
    }
   ],
   "source": []
  },
  {
   "cell_type": "markdown",
   "metadata": {
    "colab_type": "text",
    "id": "dILt73YKSqmy"
   },
   "source": [
    "\n",
    "\n",
    "---\n",
    "\n"
   ]
  },
  {
   "cell_type": "markdown",
   "metadata": {
    "colab_type": "text",
    "id": "dSMB0NNhSzU3"
   },
   "source": [
    "### Q2. For loop and randomization (Total: 5 marks)"
   ]
  },
  {
   "cell_type": "markdown",
   "metadata": {
    "colab_type": "text",
    "id": "nMEB3Z4GTfFo"
   },
   "source": [
    "**Perform all the following steps:**\n",
    "\n",
    "*   **Write a for loop using the form \"for index in range(_):\" to loop 8 times. (1 mark)**\n",
    "*   **Create an array called \"arr\" in this loop using numpy.arange(start, stop) to create an array containing the numbers 1 to 6. (1 mark)**\n",
    "*   **Use numpy.random to set a random seed to the remainder of index when divided by 4 in the loop. (2 marks)**\n",
    "*   **Use numpy.random to shuffle the array \"arr\" (1 mark)**\n",
    "*   **Print out the shuffled arrays.**\n"
   ]
  },
  {
   "cell_type": "code",
   "execution_count": null,
   "metadata": {
    "colab": {},
    "colab_type": "code",
    "id": "d-l-fBdcTVC9",
    "outputId": "c43630c7-ab3e-43c7-8981-46f35811c2a3"
   },
   "outputs": [
    {
     "name": "stdout",
     "output_type": "stream",
     "text": [
      "[6 3 2 4 1 5]\n",
      "[3 2 5 1 4 6]\n",
      "[5 2 4 3 6 1]\n",
      "[4 6 5 2 1 3]\n",
      "[6 3 2 4 1 5]\n",
      "[3 2 5 1 4 6]\n",
      "[5 2 4 3 6 1]\n",
      "[4 6 5 2 1 3]\n"
     ]
    }
   ],
   "source": []
  },
  {
   "cell_type": "markdown",
   "metadata": {
    "colab_type": "text",
    "id": "wA4B98ysUkdR"
   },
   "source": [
    "---"
   ]
  },
  {
   "cell_type": "markdown",
   "metadata": {
    "colab_type": "text",
    "id": "80aGdeNfXkVO"
   },
   "source": [
    "### Q3. Stacking and basic statistics (Total: 5 marks)"
   ]
  },
  {
   "cell_type": "markdown",
   "metadata": {
    "colab_type": "text",
    "id": "tsEjPUpzXv1j"
   },
   "source": [
    "**3.1 Perform a column stack of the lists C, D and E, in that order, and assign the result of a variable called columnStack. Print out columnStack. (1 mark)**"
   ]
  },
  {
   "cell_type": "code",
   "execution_count": null,
   "metadata": {
    "colab": {},
    "colab_type": "code",
    "id": "PNA91eXvWFsB"
   },
   "outputs": [],
   "source": [
    "# Do NOT modify this cell.\n",
    "# Just run the command as is.\n",
    "# Defining 3 lists:\n",
    "C = [-1,3,5]\n",
    "D = [2,8,-3]\n",
    "E = [7,9,4]"
   ]
  },
  {
   "cell_type": "code",
   "execution_count": null,
   "metadata": {
    "colab": {},
    "colab_type": "code",
    "id": "P3J2E9qwY2Gu",
    "outputId": "a4f60e05-fc02-4f63-dfee-f152dd51795f"
   },
   "outputs": [
    {
     "data": {
      "text/plain": [
       "array([[-1,  2,  7],\n",
       "       [ 3,  8,  9],\n",
       "       [ 5, -3,  4]])"
      ]
     },
     "execution_count": 21,
     "metadata": {
      "tags": []
     },
     "output_type": "execute_result"
    }
   ],
   "source": []
  },
  {
   "cell_type": "markdown",
   "metadata": {
    "colab_type": "text",
    "id": "wW4H_qqIcnpV"
   },
   "source": [
    "**3.2 Print out the mean of each column to 3 decimal places. (2 marks)**"
   ]
  },
  {
   "cell_type": "code",
   "execution_count": null,
   "metadata": {
    "colab": {},
    "colab_type": "code",
    "id": "Di1QyCjYZGw9",
    "outputId": "d4336c7f-6923-49f3-bb50-a633e314ea89"
   },
   "outputs": [
    {
     "data": {
      "text/plain": [
       "array([2.333, 2.333, 6.667])"
      ]
     },
     "execution_count": 28,
     "metadata": {
      "tags": []
     },
     "output_type": "execute_result"
    }
   ],
   "source": []
  },
  {
   "cell_type": "markdown",
   "metadata": {
    "colab_type": "text",
    "id": "UznT6GMeeAXu"
   },
   "source": [
    "**Run the cell below as is.**"
   ]
  },
  {
   "cell_type": "code",
   "execution_count": null,
   "metadata": {
    "colab": {},
    "colab_type": "code",
    "id": "IQmDx9hubjnh",
    "outputId": "b48de53d-6427-4df5-8eb5-1f9ad03864c0"
   },
   "outputs": [
    {
     "name": "stdout",
     "output_type": "stream",
     "text": [
      "[[28 23]\n",
      " [52  5]]\n",
      "\n",
      "[[56 62]\n",
      " [52 49]]\n"
     ]
    }
   ],
   "source": [
    "# Do NOT modify this cell.\n",
    "# Just run the command as is.\n",
    "# Defining 2 matrices:\n",
    "np.random.seed(631)\n",
    "F = np.random.randint(low=3,high=70, size=(2,2))\n",
    "print(F)\n",
    "print()\n",
    "np.random.seed(116)\n",
    "G = np.random.randint(low=3,high=70, size=(2,2))\n",
    "print(G)"
   ]
  },
  {
   "cell_type": "markdown",
   "metadata": {
    "colab_type": "text",
    "id": "g1MBpkWZgFaC"
   },
   "source": [
    "**3.3 Stack matrices F and G horizontally using numpy.hstack(), and assign the result to a variable called F_then_G. Print out this variable. (1 mark)**"
   ]
  },
  {
   "cell_type": "code",
   "execution_count": null,
   "metadata": {
    "colab": {},
    "colab_type": "code",
    "id": "jMFuyxNedr-d",
    "outputId": "9f9dd4e5-eda3-458b-f8c2-39d03449f631"
   },
   "outputs": [
    {
     "data": {
      "text/plain": [
       "array([[28, 23, 56, 62],\n",
       "       [52,  5, 52, 49]])"
      ]
     },
     "execution_count": 30,
     "metadata": {
      "tags": []
     },
     "output_type": "execute_result"
    }
   ],
   "source": []
  },
  {
   "cell_type": "markdown",
   "metadata": {
    "colab_type": "text",
    "id": "S0X3s6bQgpXe"
   },
   "source": [
    "**3.4 Stack the *transpose of the matrix F* and the *transpose of the matrix G* vertically using numpy.concatenate(), and assign the result to a variable called FT_on_GT. Print out this variable. (1 mark)**"
   ]
  },
  {
   "cell_type": "code",
   "execution_count": null,
   "metadata": {
    "colab": {},
    "colab_type": "code",
    "id": "RRCgd5i1ghTR",
    "outputId": "0a3b58d8-f61c-4fa1-e91d-9cc5d4e7f580"
   },
   "outputs": [
    {
     "data": {
      "text/plain": [
       "array([[28, 52],\n",
       "       [23,  5],\n",
       "       [56, 52],\n",
       "       [62, 49]])"
      ]
     },
     "execution_count": 61,
     "metadata": {
      "tags": []
     },
     "output_type": "execute_result"
    }
   ],
   "source": []
  },
  {
   "cell_type": "markdown",
   "metadata": {
    "colab_type": "text",
    "id": "v0PeT1DKulFm"
   },
   "source": [
    "---"
   ]
  },
  {
   "cell_type": "markdown",
   "metadata": {
    "colab_type": "text",
    "id": "Wi5oKrd7iK7q"
   },
   "source": [
    "### Q4. Slicing (Total: 6 marks)"
   ]
  },
  {
   "cell_type": "markdown",
   "metadata": {
    "colab_type": "text",
    "id": "ZF9SeBs8S2uL"
   },
   "source": [
    "**Run the cell below as is.**"
   ]
  },
  {
   "cell_type": "code",
   "execution_count": null,
   "metadata": {
    "colab": {
     "base_uri": "https://localhost:8080/",
     "height": 85
    },
    "colab_type": "code",
    "id": "XldwGaCthSzA",
    "outputId": "389b9bbe-b4c5-4f47-ec49-0d701a72f7e1"
   },
   "outputs": [
    {
     "name": "stdout",
     "output_type": "stream",
     "text": [
      "[[15 -2  2 27]\n",
      " [23 26 -6 36]\n",
      " [14 34  8 56]\n",
      " [38 14 41 29]]\n"
     ]
    }
   ],
   "source": [
    "# Do NOT modify this cell.\n",
    "# Just run the command as is.\n",
    "# Defining 1 matrix:\n",
    "np.random.seed(7341)\n",
    "H = np.random.randint(low=-10,high=60, size=(4,4))\n",
    "print(H)"
   ]
  },
  {
   "cell_type": "markdown",
   "metadata": {
    "colab_type": "text",
    "id": "jjEWSoJ_KYbI"
   },
   "source": [
    "**4.1 Slice the last 3 rows and second to third column of H and assign the subset to a variable H_slice1. (1 mark)**"
   ]
  },
  {
   "cell_type": "code",
   "execution_count": null,
   "metadata": {
    "colab": {
     "base_uri": "https://localhost:8080/",
     "height": 68
    },
    "colab_type": "code",
    "id": "8hz0309PKZGI",
    "outputId": "34f1494b-6d54-45c5-8006-596bbd821a5d"
   },
   "outputs": [
    {
     "data": {
      "text/plain": [
       "array([[26, -6],\n",
       "       [34,  8],\n",
       "       [14, 41]])"
      ]
     },
     "execution_count": 36,
     "metadata": {
      "tags": []
     },
     "output_type": "execute_result"
    }
   ],
   "source": []
  },
  {
   "cell_type": "markdown",
   "metadata": {
    "colab_type": "text",
    "id": "MSHpYgaVKmig"
   },
   "source": [
    "**4.2 Change the element at the 2nd row, 3rd column of H to the cube of its current value using the power operator of Python. (1 mark)**"
   ]
  },
  {
   "cell_type": "code",
   "execution_count": null,
   "metadata": {
    "colab": {
     "base_uri": "https://localhost:8080/",
     "height": 85
    },
    "colab_type": "code",
    "id": "3lCdd7SbKm6c",
    "outputId": "8f7953e4-b5be-4ba9-bf63-c030182faf62"
   },
   "outputs": [
    {
     "data": {
      "text/plain": [
       "array([[  15,   -2,    2,   27],\n",
       "       [  23,   26, -216,   36],\n",
       "       [  14,   34,    8,   56],\n",
       "       [  38,   14,   41,   29]])"
      ]
     },
     "execution_count": 37,
     "metadata": {
      "tags": []
     },
     "output_type": "execute_result"
    }
   ],
   "source": []
  },
  {
   "cell_type": "markdown",
   "metadata": {
    "colab_type": "text",
    "id": "Oaf8jrW9M4sE"
   },
   "source": [
    "**4.3 The first 3 columns of H are features for machine learning, while the last column of H is the label. Using only \":\" and negative numbers for slicing with any possible reshaping, print out the features and label as 2-dimensional matrices. (2 marks)**"
   ]
  },
  {
   "cell_type": "code",
   "execution_count": null,
   "metadata": {
    "colab": {
     "base_uri": "https://localhost:8080/",
     "height": 170
    },
    "colab_type": "code",
    "id": "SGaWsSkSM5Mg",
    "outputId": "b4f4ebbf-1de1-4a77-9475-586753ae72f7"
   },
   "outputs": [
    {
     "name": "stdout",
     "output_type": "stream",
     "text": [
      "[[  15   -2    2]\n",
      " [  23   26 -216]\n",
      " [  14   34    8]\n",
      " [  38   14   41]]\n",
      "\n",
      "[[27]\n",
      " [36]\n",
      " [56]\n",
      " [29]]\n"
     ]
    }
   ],
   "source": []
  },
  {
   "cell_type": "markdown",
   "metadata": {
    "colab_type": "text",
    "id": "ty0asQv8K2Tw"
   },
   "source": [
    "**4.4 You are required to select the following cells from matrix H (zero-index based):**\n",
    "\n",
    "* **row 3, column 0**\n",
    "* **row 1, column 2**\n",
    "* **row 2, column 2**\n",
    "* **row 1, column 3**\n",
    "\n",
    "**Create a numpy array \"row_indices\" to store the row indices, and a numpy array \"col_indices\" to store the column indices. Print them out.**\n",
    "\n",
    "**(1 mark)**"
   ]
  },
  {
   "cell_type": "code",
   "execution_count": null,
   "metadata": {
    "colab": {
     "base_uri": "https://localhost:8080/",
     "height": 68
    },
    "colab_type": "code",
    "id": "7KVmlVEHK2yS",
    "outputId": "2126eb6f-5123-48fe-c769-bfe8124224ef"
   },
   "outputs": [
    {
     "name": "stdout",
     "output_type": "stream",
     "text": [
      "[3 1 2 1]\n",
      "\n",
      "[0 2 2 3]\n"
     ]
    }
   ],
   "source": []
  },
  {
   "cell_type": "markdown",
   "metadata": {
    "colab_type": "text",
    "id": "_ohQrwTyLh_X"
   },
   "source": [
    "**4.5 Use row_indices and col_indices to select the required elements from H. (1 mark)**"
   ]
  },
  {
   "cell_type": "code",
   "execution_count": null,
   "metadata": {
    "colab": {
     "base_uri": "https://localhost:8080/",
     "height": 34
    },
    "colab_type": "code",
    "id": "br29mwCMLihF",
    "outputId": "7152d4c5-2ed1-46b4-fcf9-44ccd5110fa0"
   },
   "outputs": [
    {
     "data": {
      "text/plain": [
       "array([  38, -216,    8,   36])"
      ]
     },
     "execution_count": 40,
     "metadata": {
      "tags": []
     },
     "output_type": "execute_result"
    }
   ],
   "source": []
  },
  {
   "cell_type": "markdown",
   "metadata": {
    "colab_type": "text",
    "id": "KjeC4bjXUoTv"
   },
   "source": [
    "---"
   ]
  },
  {
   "cell_type": "markdown",
   "metadata": {
    "colab_type": "text",
    "id": "cxhuQGtviQwB"
   },
   "source": [
    "### Q5. Filtering (Total: 9 marks)"
   ]
  },
  {
   "cell_type": "markdown",
   "metadata": {
    "colab_type": "text",
    "id": "kBflioonS01s"
   },
   "source": [
    "**Run the cell below as is.**"
   ]
  },
  {
   "cell_type": "code",
   "execution_count": null,
   "metadata": {
    "colab": {
     "base_uri": "https://localhost:8080/",
     "height": 68
    },
    "colab_type": "code",
    "id": "3AualWadl8O7",
    "outputId": "1ff3ddfe-8b66-4029-8c0b-9dc6695e400e"
   },
   "outputs": [
    {
     "data": {
      "text/plain": [
       "array([[ -7,   3],\n",
       "       [  6,  15],\n",
       "       [-14,   2]])"
      ]
     },
     "execution_count": 47,
     "metadata": {
      "tags": []
     },
     "output_type": "execute_result"
    }
   ],
   "source": [
    "# Do NOT modify this cell.\n",
    "# Just run the command as is.\n",
    "# Defining 1 list:\n",
    "I = np.array([[-7,3],[6,15],[-14,2]])\n",
    "I"
   ]
  },
  {
   "cell_type": "markdown",
   "metadata": {
    "colab_type": "text",
    "id": "OEeE4QjQl7xH"
   },
   "source": [
    "**5.1 Create a filter \"filter1\" that is True if an element in I is negative, and False otherwise. Use filter1 to filter out the negative elements in I. (1 mark)**"
   ]
  },
  {
   "cell_type": "code",
   "execution_count": null,
   "metadata": {
    "colab": {
     "base_uri": "https://localhost:8080/",
     "height": 34
    },
    "colab_type": "code",
    "id": "hqG6ee1qmUUH",
    "outputId": "e35aebdf-270e-40fa-c6d0-066e098b846a"
   },
   "outputs": [
    {
     "data": {
      "text/plain": [
       "array([ -7, -14])"
      ]
     },
     "execution_count": 48,
     "metadata": {
      "tags": []
     },
     "output_type": "execute_result"
    }
   ],
   "source": []
  },
  {
   "cell_type": "markdown",
   "metadata": {
    "colab_type": "text",
    "id": "C9lum6I_pv3F"
   },
   "source": [
    "**5.2 In a single line of code, filter out the even numbers in I. (1 mark)**"
   ]
  },
  {
   "cell_type": "code",
   "execution_count": null,
   "metadata": {
    "colab": {
     "base_uri": "https://localhost:8080/",
     "height": 34
    },
    "colab_type": "code",
    "id": "S3YfDAxvmhW1",
    "outputId": "62164227-a222-4469-896a-d343e0abd976"
   },
   "outputs": [
    {
     "data": {
      "text/plain": [
       "array([  6, -14,   2])"
      ]
     },
     "execution_count": 49,
     "metadata": {
      "tags": []
     },
     "output_type": "execute_result"
    }
   ],
   "source": []
  },
  {
   "cell_type": "markdown",
   "metadata": {
    "colab_type": "text",
    "id": "AFx12Xvrp-d9"
   },
   "source": [
    "**5.3 In a single line of code, add 100 to the multiples of 7 in I. In another line of code, print I out. (1 mark)**"
   ]
  },
  {
   "cell_type": "code",
   "execution_count": null,
   "metadata": {
    "colab": {
     "base_uri": "https://localhost:8080/",
     "height": 68
    },
    "colab_type": "code",
    "id": "Ns-8kCMZm02j",
    "outputId": "a1c1901b-6731-4c85-9eba-cdc84cfc9ac7"
   },
   "outputs": [
    {
     "data": {
      "text/plain": [
       "array([[93,  3],\n",
       "       [ 6, 15],\n",
       "       [86,  2]])"
      ]
     },
     "execution_count": 50,
     "metadata": {
      "tags": []
     },
     "output_type": "execute_result"
    }
   ],
   "source": []
  },
  {
   "cell_type": "markdown",
   "metadata": {
    "colab_type": "text",
    "id": "YjjUS-2HSvJ-"
   },
   "source": [
    "**Run the cell below as is.**"
   ]
  },
  {
   "cell_type": "code",
   "execution_count": null,
   "metadata": {
    "colab": {},
    "colab_type": "code",
    "id": "-_SgLD-Uqass"
   },
   "outputs": [],
   "source": [
    "# Do NOT modify this cell.\n",
    "# Just run the command as is.\n",
    "# Defining 2 lists:\n",
    "J = np.array([5,-3,2,-1,4])\n",
    "K = np.array([11,9,-7,23,29])"
   ]
  },
  {
   "cell_type": "markdown",
   "metadata": {
    "colab_type": "text",
    "id": "DOCVxfFLq-Wk"
   },
   "source": [
    "**5.4 Create a filter called \"filter2\" that is a numpy array containing just Boolean values to select (using numpy.where()) the first element of J, then the 2nd, 3rd and 4th elements of K, then finally the last element of J. Print the output. (2 marks)**"
   ]
  },
  {
   "cell_type": "code",
   "execution_count": null,
   "metadata": {
    "colab": {
     "base_uri": "https://localhost:8080/",
     "height": 34
    },
    "colab_type": "code",
    "id": "lOOljlAsqtBa",
    "outputId": "94eea387-3b15-440b-eaea-3a6a5f3b1081"
   },
   "outputs": [
    {
     "name": "stdout",
     "output_type": "stream",
     "text": [
      "[ 5  9 -7 23  4]\n"
     ]
    }
   ],
   "source": []
  },
  {
   "cell_type": "markdown",
   "metadata": {
    "colab_type": "text",
    "id": "qgZIrv9Bjazg"
   },
   "source": [
    "**5.5 Set a random seed of 1890, and use numpy.random.rand() to create a 4-by-4 matrix, assigning the result to a variable named \"L\". Print L out. (1 mark)**"
   ]
  },
  {
   "cell_type": "code",
   "execution_count": null,
   "metadata": {
    "colab": {
     "base_uri": "https://localhost:8080/",
     "height": 102
    },
    "colab_type": "code",
    "id": "CYtXzC2YiSu_",
    "outputId": "c8baae4d-466e-484a-d32e-d04dc1213523"
   },
   "outputs": [
    {
     "data": {
      "text/plain": [
       "array([[0.44 , 0.502, 0.696, 0.573],\n",
       "       [0.971, 0.423, 0.801, 0.044],\n",
       "       [0.677, 0.428, 0.239, 0.882],\n",
       "       [0.413, 0.248, 0.619, 0.893]])"
      ]
     },
     "execution_count": 57,
     "metadata": {
      "tags": []
     },
     "output_type": "execute_result"
    }
   ],
   "source": []
  },
  {
   "cell_type": "markdown",
   "metadata": {
    "colab_type": "text",
    "id": "QMUJos7ckkKu"
   },
   "source": [
    "**5.6 Using numpy.where() on L, create a matrix that holds 1 in a cell if the corresponding cell is above 0.75, 0 otherwise, storing the result in L_3quarters. Print out L_3quarters. (1 mark)**"
   ]
  },
  {
   "cell_type": "code",
   "execution_count": null,
   "metadata": {
    "colab": {
     "base_uri": "https://localhost:8080/",
     "height": 102
    },
    "colab_type": "code",
    "id": "FvuKhieXixt-",
    "outputId": "75d0fa6a-bbc1-4592-b8cb-e86ec7726319"
   },
   "outputs": [
    {
     "data": {
      "text/plain": [
       "array([[0, 0, 0, 0],\n",
       "       [1, 0, 1, 0],\n",
       "       [0, 0, 0, 1],\n",
       "       [0, 0, 0, 1]])"
      ]
     },
     "execution_count": 58,
     "metadata": {
      "tags": []
     },
     "output_type": "execute_result"
    }
   ],
   "source": []
  },
  {
   "cell_type": "markdown",
   "metadata": {
    "colab_type": "text",
    "id": "NMSFa7HclXWx"
   },
   "source": [
    "**5.7 Using numpy.unique(), with the return_counts attribute set to True, find out the number of unique numbers in L_3quarters. Use dict and zip to create a dictionary that contains the count of 0 and 1 in L_3quarters. (2 marks)**"
   ]
  },
  {
   "cell_type": "code",
   "execution_count": null,
   "metadata": {
    "colab": {
     "base_uri": "https://localhost:8080/",
     "height": 34
    },
    "colab_type": "code",
    "id": "TzSfs9Rni3eo",
    "outputId": "fd0d3941-383e-4514-b5db-74fd9ed7802c"
   },
   "outputs": [
    {
     "data": {
      "text/plain": [
       "{0: 12, 1: 4}"
      ]
     },
     "execution_count": 60,
     "metadata": {
      "tags": []
     },
     "output_type": "execute_result"
    }
   ],
   "source": []
  },
  {
   "cell_type": "markdown",
   "metadata": {
    "colab_type": "text",
    "id": "LX69b97LUqtO"
   },
   "source": [
    "# END OF SECTION A"
   ]
  },
  {
   "cell_type": "code",
   "execution_count": null,
   "metadata": {
    "colab": {},
    "colab_type": "code",
    "id": "8vzotu0ju-Us"
   },
   "outputs": [],
   "source": []
  }
 ],
 "metadata": {
  "colab": {
   "collapsed_sections": [],
   "name": "Section A_Numpy_ACTUAL_answers only.ipynb",
   "provenance": [],
   "version": "0.3.2"
  },
  "kernelspec": {
   "display_name": "Python 3",
   "language": "python",
   "name": "python3"
  },
  "language_info": {
   "codemirror_mode": {
    "name": "ipython",
    "version": 3
   },
   "file_extension": ".py",
   "mimetype": "text/x-python",
   "name": "python",
   "nbconvert_exporter": "python",
   "pygments_lexer": "ipython3",
   "version": "3.7.0"
  }
 },
 "nbformat": 4,
 "nbformat_minor": 2
}
