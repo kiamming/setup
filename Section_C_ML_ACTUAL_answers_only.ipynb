{
 "cells": [
  {
   "cell_type": "markdown",
   "metadata": {
    "colab_type": "text",
    "id": "7DKNgAVHaCdU"
   },
   "source": [
    "# Section C: Machine Learning (FULL SOLUTIONS)\n",
    "\n",
    "This section is composed of 6 parts with a total of 40 marks. You will be given empty code cells and the expected output. The final submission will be this Jupyter notebook with the code filled in.\n",
    "\n",
    "1. Use Pandas to Read the Dataset (4 marks)\n",
    "2. Descriptive Statistics and Data Cleaning (18 marks) \n",
    "3. Data Prep (4 marks) \n",
    "4. Features separation (4 marks) \n",
    "5. Training models (6 marks)  \n",
    "6. Weight of features of best model (2 marks)\n",
    "7. Visualization of features weight (2 marks)"
   ]
  },
  {
   "cell_type": "markdown",
   "metadata": {
    "colab_type": "text",
    "id": "1Ue8E3OnaFkr"
   },
   "source": [
    "## Import Libraries"
   ]
  },
  {
   "cell_type": "code",
   "execution_count": 43,
   "metadata": {
    "colab": {},
    "colab_type": "code",
    "id": "smWEg4d1Z9HM"
   },
   "outputs": [],
   "source": [
    "import pandas as pd\n",
    "import numpy as np\n",
    "import matplotlib.pyplot as plt"
   ]
  },
  {
   "cell_type": "markdown",
   "metadata": {
    "colab_type": "text",
    "id": "b-4K1Fu9WOXf"
   },
   "source": [
    "# Q1. Use Pandas to Read the Dataset (4 marks)\n",
    "\n",
    "1. Use pandas to read the csv file bank-additional-mod.csv into a dataframe called \"bank\". Print out the shape of \"bank\".(2 marks)\n",
    "2. Print the first 15 rows and 11 columns of the dataframe \"bank\". (1 mark) *(Hint: use bank.iloc[all rows,start to column 11].head(15))*\n",
    "3. Print the first 15 rows and last 11 columns of the dataframe \"bank\". (1 mark) *(Hint: use bank.iloc[all rows,column 12 to end].head(15))*"
   ]
  },
  {
   "cell_type": "code",
   "execution_count": 167,
   "metadata": {
    "colab": {
     "base_uri": "https://localhost:8080/",
     "height": 735
    },
    "colab_type": "code",
    "id": "7thdmotnaZ9E",
    "outputId": "7635209e-0990-4ed6-f327-e4178134b306"
   },
   "outputs": [
    {
     "data": {
      "text/plain": [
       "(41188, 21)"
      ]
     },
     "execution_count": 167,
     "metadata": {},
     "output_type": "execute_result"
    }
   ],
   "source": [
    "# Read data\n"
   ]
  },
  {
   "cell_type": "code",
   "execution_count": 168,
   "metadata": {},
   "outputs": [
    {
     "data": {
      "text/html": [
       "<div>\n",
       "<style scoped>\n",
       "    .dataframe tbody tr th:only-of-type {\n",
       "        vertical-align: middle;\n",
       "    }\n",
       "\n",
       "    .dataframe tbody tr th {\n",
       "        vertical-align: top;\n",
       "    }\n",
       "\n",
       "    .dataframe thead th {\n",
       "        text-align: right;\n",
       "    }\n",
       "</style>\n",
       "<table border=\"1\" class=\"dataframe\">\n",
       "  <thead>\n",
       "    <tr style=\"text-align: right;\">\n",
       "      <th></th>\n",
       "      <th>age</th>\n",
       "      <th>job</th>\n",
       "      <th>marital</th>\n",
       "      <th>education</th>\n",
       "      <th>default</th>\n",
       "      <th>housing</th>\n",
       "      <th>loan</th>\n",
       "      <th>contact</th>\n",
       "      <th>month</th>\n",
       "      <th>day_of_week</th>\n",
       "      <th>duration</th>\n",
       "    </tr>\n",
       "  </thead>\n",
       "  <tbody>\n",
       "    <tr>\n",
       "      <th>0</th>\n",
       "      <td>56</td>\n",
       "      <td>housemaid</td>\n",
       "      <td>married</td>\n",
       "      <td>basic.4y</td>\n",
       "      <td>no</td>\n",
       "      <td>no</td>\n",
       "      <td>no</td>\n",
       "      <td>telephone</td>\n",
       "      <td>may</td>\n",
       "      <td>mon</td>\n",
       "      <td>0 - 500</td>\n",
       "    </tr>\n",
       "    <tr>\n",
       "      <th>1</th>\n",
       "      <td>57</td>\n",
       "      <td>services</td>\n",
       "      <td>married</td>\n",
       "      <td>high.school</td>\n",
       "      <td>NaN</td>\n",
       "      <td>no</td>\n",
       "      <td>no</td>\n",
       "      <td>telephone</td>\n",
       "      <td>may</td>\n",
       "      <td>mon</td>\n",
       "      <td>0 - 500</td>\n",
       "    </tr>\n",
       "    <tr>\n",
       "      <th>2</th>\n",
       "      <td>37</td>\n",
       "      <td>services</td>\n",
       "      <td>married</td>\n",
       "      <td>high.school</td>\n",
       "      <td>no</td>\n",
       "      <td>yes</td>\n",
       "      <td>no</td>\n",
       "      <td>telephone</td>\n",
       "      <td>may</td>\n",
       "      <td>mon</td>\n",
       "      <td>0 - 500</td>\n",
       "    </tr>\n",
       "    <tr>\n",
       "      <th>3</th>\n",
       "      <td>40</td>\n",
       "      <td>admin.</td>\n",
       "      <td>married</td>\n",
       "      <td>basic.6y</td>\n",
       "      <td>no</td>\n",
       "      <td>no</td>\n",
       "      <td>no</td>\n",
       "      <td>telephone</td>\n",
       "      <td>may</td>\n",
       "      <td>mon</td>\n",
       "      <td>0 - 500</td>\n",
       "    </tr>\n",
       "    <tr>\n",
       "      <th>4</th>\n",
       "      <td>56</td>\n",
       "      <td>services</td>\n",
       "      <td>married</td>\n",
       "      <td>high.school</td>\n",
       "      <td>no</td>\n",
       "      <td>no</td>\n",
       "      <td>yes</td>\n",
       "      <td>telephone</td>\n",
       "      <td>may</td>\n",
       "      <td>mon</td>\n",
       "      <td>0 - 500</td>\n",
       "    </tr>\n",
       "    <tr>\n",
       "      <th>5</th>\n",
       "      <td>45</td>\n",
       "      <td>services</td>\n",
       "      <td>married</td>\n",
       "      <td>basic.9y</td>\n",
       "      <td>NaN</td>\n",
       "      <td>no</td>\n",
       "      <td>no</td>\n",
       "      <td>telephone</td>\n",
       "      <td>may</td>\n",
       "      <td>mon</td>\n",
       "      <td>0 - 500</td>\n",
       "    </tr>\n",
       "    <tr>\n",
       "      <th>6</th>\n",
       "      <td>59</td>\n",
       "      <td>admin.</td>\n",
       "      <td>married</td>\n",
       "      <td>professional.course</td>\n",
       "      <td>no</td>\n",
       "      <td>no</td>\n",
       "      <td>no</td>\n",
       "      <td>telephone</td>\n",
       "      <td>may</td>\n",
       "      <td>mon</td>\n",
       "      <td>0 - 500</td>\n",
       "    </tr>\n",
       "    <tr>\n",
       "      <th>7</th>\n",
       "      <td>41</td>\n",
       "      <td>blue-collar</td>\n",
       "      <td>married</td>\n",
       "      <td>(</td>\n",
       "      <td>NaN</td>\n",
       "      <td>no</td>\n",
       "      <td>no</td>\n",
       "      <td>telephone</td>\n",
       "      <td>may</td>\n",
       "      <td>mon</td>\n",
       "      <td>0 - 500</td>\n",
       "    </tr>\n",
       "    <tr>\n",
       "      <th>8</th>\n",
       "      <td>24</td>\n",
       "      <td>technician</td>\n",
       "      <td>single</td>\n",
       "      <td>professional.course</td>\n",
       "      <td>no</td>\n",
       "      <td>yes</td>\n",
       "      <td>no</td>\n",
       "      <td>telephone</td>\n",
       "      <td>may</td>\n",
       "      <td>mon</td>\n",
       "      <td>0 - 500</td>\n",
       "    </tr>\n",
       "    <tr>\n",
       "      <th>9</th>\n",
       "      <td>25</td>\n",
       "      <td>services</td>\n",
       "      <td>single</td>\n",
       "      <td>high.school</td>\n",
       "      <td>no</td>\n",
       "      <td>yes</td>\n",
       "      <td>no</td>\n",
       "      <td>telephone</td>\n",
       "      <td>may</td>\n",
       "      <td>mon</td>\n",
       "      <td>0 - 500</td>\n",
       "    </tr>\n",
       "    <tr>\n",
       "      <th>10</th>\n",
       "      <td>41</td>\n",
       "      <td>blue-collar</td>\n",
       "      <td>married</td>\n",
       "      <td>(</td>\n",
       "      <td>NaN</td>\n",
       "      <td>no</td>\n",
       "      <td>no</td>\n",
       "      <td>telephone</td>\n",
       "      <td>may</td>\n",
       "      <td>mon</td>\n",
       "      <td>0 - 500</td>\n",
       "    </tr>\n",
       "    <tr>\n",
       "      <th>11</th>\n",
       "      <td>25</td>\n",
       "      <td>services</td>\n",
       "      <td>single</td>\n",
       "      <td>high.school</td>\n",
       "      <td>no</td>\n",
       "      <td>yes</td>\n",
       "      <td>no</td>\n",
       "      <td>telephone</td>\n",
       "      <td>may</td>\n",
       "      <td>mon</td>\n",
       "      <td>0 - 500</td>\n",
       "    </tr>\n",
       "    <tr>\n",
       "      <th>12</th>\n",
       "      <td>29</td>\n",
       "      <td>blue-collar</td>\n",
       "      <td>single</td>\n",
       "      <td>high.school</td>\n",
       "      <td>no</td>\n",
       "      <td>no</td>\n",
       "      <td>yes</td>\n",
       "      <td>telephone</td>\n",
       "      <td>may</td>\n",
       "      <td>mon</td>\n",
       "      <td>0 - 500</td>\n",
       "    </tr>\n",
       "    <tr>\n",
       "      <th>13</th>\n",
       "      <td>57</td>\n",
       "      <td>housemaid</td>\n",
       "      <td>divorced</td>\n",
       "      <td>basic.4y</td>\n",
       "      <td>no</td>\n",
       "      <td>yes</td>\n",
       "      <td>no</td>\n",
       "      <td>telephone</td>\n",
       "      <td>may</td>\n",
       "      <td>mon</td>\n",
       "      <td>0 - 500</td>\n",
       "    </tr>\n",
       "    <tr>\n",
       "      <th>14</th>\n",
       "      <td>35</td>\n",
       "      <td>blue-collar</td>\n",
       "      <td>married</td>\n",
       "      <td>basic.6y</td>\n",
       "      <td>no</td>\n",
       "      <td>yes</td>\n",
       "      <td>no</td>\n",
       "      <td>telephone</td>\n",
       "      <td>may</td>\n",
       "      <td>mon</td>\n",
       "      <td>0 - 500</td>\n",
       "    </tr>\n",
       "  </tbody>\n",
       "</table>\n",
       "</div>"
      ],
      "text/plain": [
       "    age          job   marital            education default housing loan  \\\n",
       "0    56    housemaid   married             basic.4y      no      no   no   \n",
       "1    57     services   married          high.school     NaN      no   no   \n",
       "2    37     services   married          high.school      no     yes   no   \n",
       "3    40       admin.   married             basic.6y      no      no   no   \n",
       "4    56     services   married          high.school      no      no  yes   \n",
       "5    45     services   married             basic.9y     NaN      no   no   \n",
       "6    59       admin.   married  professional.course      no      no   no   \n",
       "7    41  blue-collar   married                    (     NaN      no   no   \n",
       "8    24   technician    single  professional.course      no     yes   no   \n",
       "9    25     services    single          high.school      no     yes   no   \n",
       "10   41  blue-collar   married                    (     NaN      no   no   \n",
       "11   25     services    single          high.school      no     yes   no   \n",
       "12   29  blue-collar    single          high.school      no      no  yes   \n",
       "13   57    housemaid  divorced             basic.4y      no     yes   no   \n",
       "14   35  blue-collar   married             basic.6y      no     yes   no   \n",
       "\n",
       "      contact month day_of_week duration  \n",
       "0   telephone   may         mon  0 - 500  \n",
       "1   telephone   may         mon  0 - 500  \n",
       "2   telephone   may         mon  0 - 500  \n",
       "3   telephone   may         mon  0 - 500  \n",
       "4   telephone   may         mon  0 - 500  \n",
       "5   telephone   may         mon  0 - 500  \n",
       "6   telephone   may         mon  0 - 500  \n",
       "7   telephone   may         mon  0 - 500  \n",
       "8   telephone   may         mon  0 - 500  \n",
       "9   telephone   may         mon  0 - 500  \n",
       "10  telephone   may         mon  0 - 500  \n",
       "11  telephone   may         mon  0 - 500  \n",
       "12  telephone   may         mon  0 - 500  \n",
       "13  telephone   may         mon  0 - 500  \n",
       "14  telephone   may         mon  0 - 500  "
      ]
     },
     "execution_count": 168,
     "metadata": {},
     "output_type": "execute_result"
    }
   ],
   "source": [
    "# Print the first 15 rows and 11 columns of the dataframe \"bank\".\n"
   ]
  },
  {
   "cell_type": "code",
   "execution_count": 169,
   "metadata": {},
   "outputs": [
    {
     "data": {
      "text/html": [
       "<div>\n",
       "<style scoped>\n",
       "    .dataframe tbody tr th:only-of-type {\n",
       "        vertical-align: middle;\n",
       "    }\n",
       "\n",
       "    .dataframe tbody tr th {\n",
       "        vertical-align: top;\n",
       "    }\n",
       "\n",
       "    .dataframe thead th {\n",
       "        text-align: right;\n",
       "    }\n",
       "</style>\n",
       "<table border=\"1\" class=\"dataframe\">\n",
       "  <thead>\n",
       "    <tr style=\"text-align: right;\">\n",
       "      <th></th>\n",
       "      <th>campaign</th>\n",
       "      <th>pdays</th>\n",
       "      <th>previous</th>\n",
       "      <th>poutcome</th>\n",
       "      <th>emp.var.rate</th>\n",
       "      <th>cons.price.idx</th>\n",
       "      <th>cons.conf.idx</th>\n",
       "      <th>euribor3m</th>\n",
       "      <th>nr.employed</th>\n",
       "      <th>y</th>\n",
       "    </tr>\n",
       "  </thead>\n",
       "  <tbody>\n",
       "    <tr>\n",
       "      <th>0</th>\n",
       "      <td>1</td>\n",
       "      <td>999</td>\n",
       "      <td>0</td>\n",
       "      <td>nonexistent</td>\n",
       "      <td>1.1</td>\n",
       "      <td>93.994</td>\n",
       "      <td>-36.4</td>\n",
       "      <td>4.857</td>\n",
       "      <td>5191.0</td>\n",
       "      <td>no</td>\n",
       "    </tr>\n",
       "    <tr>\n",
       "      <th>1</th>\n",
       "      <td>1</td>\n",
       "      <td>999</td>\n",
       "      <td>0</td>\n",
       "      <td>nonexistent</td>\n",
       "      <td>1.1</td>\n",
       "      <td>93.994</td>\n",
       "      <td>-36.4</td>\n",
       "      <td>4.857</td>\n",
       "      <td>5191.0</td>\n",
       "      <td>no</td>\n",
       "    </tr>\n",
       "    <tr>\n",
       "      <th>2</th>\n",
       "      <td>1</td>\n",
       "      <td>999</td>\n",
       "      <td>0</td>\n",
       "      <td>nonexistent</td>\n",
       "      <td>1.1</td>\n",
       "      <td>93.994</td>\n",
       "      <td>-36.4</td>\n",
       "      <td>4.857</td>\n",
       "      <td>5191.0</td>\n",
       "      <td>no</td>\n",
       "    </tr>\n",
       "    <tr>\n",
       "      <th>3</th>\n",
       "      <td>1</td>\n",
       "      <td>999</td>\n",
       "      <td>0</td>\n",
       "      <td>nonexistent</td>\n",
       "      <td>1.1</td>\n",
       "      <td>93.994</td>\n",
       "      <td>-36.4</td>\n",
       "      <td>4.857</td>\n",
       "      <td>5191.0</td>\n",
       "      <td>no</td>\n",
       "    </tr>\n",
       "    <tr>\n",
       "      <th>4</th>\n",
       "      <td>1</td>\n",
       "      <td>999</td>\n",
       "      <td>0</td>\n",
       "      <td>nonexistent</td>\n",
       "      <td>1.1</td>\n",
       "      <td>93.994</td>\n",
       "      <td>-36.4</td>\n",
       "      <td>4.857</td>\n",
       "      <td>5191.0</td>\n",
       "      <td>no</td>\n",
       "    </tr>\n",
       "    <tr>\n",
       "      <th>5</th>\n",
       "      <td>1</td>\n",
       "      <td>999</td>\n",
       "      <td>0</td>\n",
       "      <td>nonexistent</td>\n",
       "      <td>1.1</td>\n",
       "      <td>93.994</td>\n",
       "      <td>-36.4</td>\n",
       "      <td>4.857</td>\n",
       "      <td>5191.0</td>\n",
       "      <td>no</td>\n",
       "    </tr>\n",
       "    <tr>\n",
       "      <th>6</th>\n",
       "      <td>1</td>\n",
       "      <td>999</td>\n",
       "      <td>0</td>\n",
       "      <td>nonexistent</td>\n",
       "      <td>1.1</td>\n",
       "      <td>93.994</td>\n",
       "      <td>-36.4</td>\n",
       "      <td>4.857</td>\n",
       "      <td>5191.0</td>\n",
       "      <td>no</td>\n",
       "    </tr>\n",
       "    <tr>\n",
       "      <th>7</th>\n",
       "      <td>1</td>\n",
       "      <td>999</td>\n",
       "      <td>0</td>\n",
       "      <td>nonexistent</td>\n",
       "      <td>1.1</td>\n",
       "      <td>93.994</td>\n",
       "      <td>-36.4</td>\n",
       "      <td>4.857</td>\n",
       "      <td>5191.0</td>\n",
       "      <td>no</td>\n",
       "    </tr>\n",
       "    <tr>\n",
       "      <th>8</th>\n",
       "      <td>1</td>\n",
       "      <td>999</td>\n",
       "      <td>0</td>\n",
       "      <td>nonexistent</td>\n",
       "      <td>1.1</td>\n",
       "      <td>93.994</td>\n",
       "      <td>-36.4</td>\n",
       "      <td>4.857</td>\n",
       "      <td>5191.0</td>\n",
       "      <td>no</td>\n",
       "    </tr>\n",
       "    <tr>\n",
       "      <th>9</th>\n",
       "      <td>1</td>\n",
       "      <td>999</td>\n",
       "      <td>0</td>\n",
       "      <td>nonexistent</td>\n",
       "      <td>1.1</td>\n",
       "      <td>93.994</td>\n",
       "      <td>-36.4</td>\n",
       "      <td>4.857</td>\n",
       "      <td>5191.0</td>\n",
       "      <td>no</td>\n",
       "    </tr>\n",
       "    <tr>\n",
       "      <th>10</th>\n",
       "      <td>1</td>\n",
       "      <td>999</td>\n",
       "      <td>0</td>\n",
       "      <td>nonexistent</td>\n",
       "      <td>1.1</td>\n",
       "      <td>93.994</td>\n",
       "      <td>-36.4</td>\n",
       "      <td>4.857</td>\n",
       "      <td>5191.0</td>\n",
       "      <td>no</td>\n",
       "    </tr>\n",
       "    <tr>\n",
       "      <th>11</th>\n",
       "      <td>1</td>\n",
       "      <td>999</td>\n",
       "      <td>0</td>\n",
       "      <td>nonexistent</td>\n",
       "      <td>1.1</td>\n",
       "      <td>93.994</td>\n",
       "      <td>-36.4</td>\n",
       "      <td>4.857</td>\n",
       "      <td>5191.0</td>\n",
       "      <td>no</td>\n",
       "    </tr>\n",
       "    <tr>\n",
       "      <th>12</th>\n",
       "      <td>1</td>\n",
       "      <td>999</td>\n",
       "      <td>0</td>\n",
       "      <td>nonexistent</td>\n",
       "      <td>1.1</td>\n",
       "      <td>93.994</td>\n",
       "      <td>-36.4</td>\n",
       "      <td>4.857</td>\n",
       "      <td>5191.0</td>\n",
       "      <td>no</td>\n",
       "    </tr>\n",
       "    <tr>\n",
       "      <th>13</th>\n",
       "      <td>1</td>\n",
       "      <td>999</td>\n",
       "      <td>0</td>\n",
       "      <td>nonexistent</td>\n",
       "      <td>1.1</td>\n",
       "      <td>93.994</td>\n",
       "      <td>-36.4</td>\n",
       "      <td>4.857</td>\n",
       "      <td>5191.0</td>\n",
       "      <td>no</td>\n",
       "    </tr>\n",
       "    <tr>\n",
       "      <th>14</th>\n",
       "      <td>1</td>\n",
       "      <td>999</td>\n",
       "      <td>0</td>\n",
       "      <td>nonexistent</td>\n",
       "      <td>1.1</td>\n",
       "      <td>93.994</td>\n",
       "      <td>-36.4</td>\n",
       "      <td>4.857</td>\n",
       "      <td>5191.0</td>\n",
       "      <td>no</td>\n",
       "    </tr>\n",
       "  </tbody>\n",
       "</table>\n",
       "</div>"
      ],
      "text/plain": [
       "    campaign  pdays  previous     poutcome  emp.var.rate  cons.price.idx  \\\n",
       "0          1    999         0  nonexistent           1.1          93.994   \n",
       "1          1    999         0  nonexistent           1.1          93.994   \n",
       "2          1    999         0  nonexistent           1.1          93.994   \n",
       "3          1    999         0  nonexistent           1.1          93.994   \n",
       "4          1    999         0  nonexistent           1.1          93.994   \n",
       "5          1    999         0  nonexistent           1.1          93.994   \n",
       "6          1    999         0  nonexistent           1.1          93.994   \n",
       "7          1    999         0  nonexistent           1.1          93.994   \n",
       "8          1    999         0  nonexistent           1.1          93.994   \n",
       "9          1    999         0  nonexistent           1.1          93.994   \n",
       "10         1    999         0  nonexistent           1.1          93.994   \n",
       "11         1    999         0  nonexistent           1.1          93.994   \n",
       "12         1    999         0  nonexistent           1.1          93.994   \n",
       "13         1    999         0  nonexistent           1.1          93.994   \n",
       "14         1    999         0  nonexistent           1.1          93.994   \n",
       "\n",
       "    cons.conf.idx  euribor3m  nr.employed   y  \n",
       "0           -36.4      4.857       5191.0  no  \n",
       "1           -36.4      4.857       5191.0  no  \n",
       "2           -36.4      4.857       5191.0  no  \n",
       "3           -36.4      4.857       5191.0  no  \n",
       "4           -36.4      4.857       5191.0  no  \n",
       "5           -36.4      4.857       5191.0  no  \n",
       "6           -36.4      4.857       5191.0  no  \n",
       "7           -36.4      4.857       5191.0  no  \n",
       "8           -36.4      4.857       5191.0  no  \n",
       "9           -36.4      4.857       5191.0  no  \n",
       "10          -36.4      4.857       5191.0  no  \n",
       "11          -36.4      4.857       5191.0  no  \n",
       "12          -36.4      4.857       5191.0  no  \n",
       "13          -36.4      4.857       5191.0  no  \n",
       "14          -36.4      4.857       5191.0  no  "
      ]
     },
     "execution_count": 169,
     "metadata": {},
     "output_type": "execute_result"
    }
   ],
   "source": [
    "# Print the first 15 rows and last 11 columns of the dataframe \"bank\".\n"
   ]
  },
  {
   "cell_type": "markdown",
   "metadata": {
    "colab_type": "text",
    "id": "hKLIJOycWOX0"
   },
   "source": [
    "# Q2. Descriptive Statistics and Data Cleaning (20 marks)\n",
    "\n",
    "*In this step, you will perform data cleaning of the raw data. The final cleansed data is saved in the file **\"bank-additional-cleansed.csv\"**. If you wish to, you can import the cleansed data into the Jupyter notebook to do Q3 first.*\n",
    "\n",
    "1. Print out a bar chart of the count of values in the \"job\" column. (1 mark) \n",
    "\n",
    "2. Drop the rows that have the value \"unknown\" in the following columns and update the \"bank\" dataframe. Print out the shape of the updated \"bank\" dataframe. Columns: \"job\", \"marital\", \"housing\", \"loan\". (1 mark)\n",
    "\n",
    "3. The \"education\" column contains unknowns in the form of the \"(\" character. Drop the rows with this character in the \"education\" column. Print out the shape of the updated \"bank\" dataframe. (2 marks)\n",
    "\n",
    "4. The \"default\" column has blank cells. Replace the blank cells with \"unknown\". Print out the first 15 rows and 11 columns of the updated \"bank\" dataframe. *Hint: use df.replace() and the fact that NaN values can be identified with np.nan* (2 marks)\n",
    "\n",
    "5. Print out the value counts of the unique values in the \"default\" column. Change all values of \"unknown\" and \"yes\" to a new value \"possible\" in the \"default\" column. Print out the value counts of the unique values in the updated \"default\" column. (2 marks)\n",
    "\n",
    "6. Delete the columns 'duration', 'month', 'day_of_week', 'pdays', 'nr.employed'. Print out the shape of the updated \"bank\" dataframe. (1 mark)\n",
    "\n",
    "7. Using the Counter function in the collections library, print out the unique values and their counts in the \"campaign\" column. There are too many unique values in the \"campaign\" column. Group all values in the \"campaign\" column that are less than or equal to 1 as \"camp1\", group all values in the \"campaign\" column that are more than 1 but less than or equal to 2 as \"camp2\", group all other values as \"camp3\". Print out the unique values and their counts in the updated \"campaign\" column. (2 marks)\n",
    "\n",
    "8. Print out the unique values and their counts in the \"previous\" column. The majority of the values in \"previous\" has the value 0. Change all non-zero values to 1. Print out the unique values and their counts in the updated \"previous\" column. (1 mark)\n",
    "\n",
    "9. The column \"emp.var.rate\" contains too many unique values. Group all values in the \"emp.var.rate\" column that are less than -2.5 to \"rate1\", group all values in the \"emp.var.rate\" column that are more than or equal to -2.5 but less than -1 as \"rate2\", group all values in the \"emp.var.rate\" column that are more than or equal to -1 but less than 1.2 as \"rate3\", group all other values as \"rate4\". Print out the unique values and their counts in the updated \"emp.var.rate\" column. (2 marks)\n",
    "\n",
    "10. The column \"cons.price.idx\" contains too many unique values. Group all values in the \"cons.price.idx\" column that are less than 92.9 to \"price1\", group all values in the \"cons.price.idx\" column that are more than or equal to 92.9 but less than 93.4 as \"price2\", group all values in the \"cons.price.idx\" column that are more than or equal to 93.4 but less than 93.9 as \"price3\", group all values in the \"cons.price.idx\" column that are more than or equal to 93.9 but less than 94 as \"price4\", group all other values as \"price5\". Print out the unique values and their counts in the updated \"cons.price.idx\" column. (2 marks)\n",
    "\n",
    "11. The column \"cons.conf.idx\" contains too many unique values. Group all values in the \"cons.conf.idx\" column that are less than -46 to \"conf1\", group all values in the \"cons.conf.idx\" column that are more than or equal to -46 but less than -41.8 as \"conf2\", group all values in the \"cons.conf.idx\" column that are more than or equal to -41.8 but less than 36.3 as \"conf3\", group all other values as \"conf4\". Print out the unique values and their counts in the updated \"cons.conf.idx\" column. (2 marks)\n",
    "\n",
    "12. The column \"emp.var.rate\" contains too many unique values. Group all values in the \"euribor3m\" column that are less than 1.3 to \"emp1\", group all values in the \"euribor3m\" column that are more than or equal to 1.3 but less than 4.2 as \"emp2\", group all values in the \"euribor3m\" column that are more than or equal to 4.2 but less than 4.96 as \"emp3\", group all other values as \"emp4\". Print out the unique values and their counts in the updated \"emp.var.rate\" column. (2 marks)\n",
    "\n",
    "13. Print out the first 15 rows of \"bank\" to check. \n"
   ]
  },
  {
   "cell_type": "code",
   "execution_count": 170,
   "metadata": {},
   "outputs": [
    {
     "data": {
      "text/plain": [
       "<matplotlib.axes._subplots.AxesSubplot at 0x2b51a849b38>"
      ]
     },
     "execution_count": 170,
     "metadata": {},
     "output_type": "execute_result"
    },
    {
     "data": {
      "image/png": "[encoded data removed]",
      "text/plain": [
       "<Figure size 432x288 with 1 Axes>"
      ]
     },
     "metadata": {
      "needs_background": "light"
     },
     "output_type": "display_data"
    }
   ],
   "source": [
    "# Print out a bar chart of the count of values in the \"job\" column\n"
   ]
  },
  {
   "cell_type": "code",
   "execution_count": 171,
   "metadata": {},
   "outputs": [
    {
     "data": {
      "text/plain": [
       "(39803, 21)"
      ]
     },
     "execution_count": 171,
     "metadata": {},
     "output_type": "execute_result"
    }
   ],
   "source": [
    "# Drop the rows that have the value \"unknown\" in the following columns and update the \"bank\" dataframe. Print out the shape of the updated \"bank\" dataframe.\n",
    "# Columns: \"job\", \"marital\", \"housing\", \"loan\"\n"
   ]
  },
  {
   "cell_type": "code",
   "execution_count": 172,
   "metadata": {
    "colab": {
     "base_uri": "https://localhost:8080/",
     "height": 297
    },
    "colab_type": "code",
    "id": "J68LengBZd4-",
    "outputId": "ea6272ed-d65a-402f-d69b-5d5139124924",
    "scrolled": true
   },
   "outputs": [
    {
     "data": {
      "text/plain": [
       "(38245, 21)"
      ]
     },
     "execution_count": 172,
     "metadata": {},
     "output_type": "execute_result"
    }
   ],
   "source": [
    "# The \"education\" column contains unknowns in the form of the \"(\" character. \n",
    "# Drop the rows with this character in the \"education\" column. \n",
    "# Print out the shape of the updated \"bank\" dataframe.\n"
   ]
  },
  {
   "cell_type": "code",
   "execution_count": 173,
   "metadata": {},
   "outputs": [
    {
     "data": {
      "text/html": [
       "<div>\n",
       "<style scoped>\n",
       "    .dataframe tbody tr th:only-of-type {\n",
       "        vertical-align: middle;\n",
       "    }\n",
       "\n",
       "    .dataframe tbody tr th {\n",
       "        vertical-align: top;\n",
       "    }\n",
       "\n",
       "    .dataframe thead th {\n",
       "        text-align: right;\n",
       "    }\n",
       "</style>\n",
       "<table border=\"1\" class=\"dataframe\">\n",
       "  <thead>\n",
       "    <tr style=\"text-align: right;\">\n",
       "      <th></th>\n",
       "      <th>age</th>\n",
       "      <th>job</th>\n",
       "      <th>marital</th>\n",
       "      <th>education</th>\n",
       "      <th>default</th>\n",
       "      <th>housing</th>\n",
       "      <th>loan</th>\n",
       "      <th>contact</th>\n",
       "      <th>month</th>\n",
       "      <th>day_of_week</th>\n",
       "      <th>duration</th>\n",
       "    </tr>\n",
       "  </thead>\n",
       "  <tbody>\n",
       "    <tr>\n",
       "      <th>0</th>\n",
       "      <td>56</td>\n",
       "      <td>housemaid</td>\n",
       "      <td>married</td>\n",
       "      <td>basic.4y</td>\n",
       "      <td>no</td>\n",
       "      <td>no</td>\n",
       "      <td>no</td>\n",
       "      <td>telephone</td>\n",
       "      <td>may</td>\n",
       "      <td>mon</td>\n",
       "      <td>0 - 500</td>\n",
       "    </tr>\n",
       "    <tr>\n",
       "      <th>1</th>\n",
       "      <td>57</td>\n",
       "      <td>services</td>\n",
       "      <td>married</td>\n",
       "      <td>high.school</td>\n",
       "      <td>unknown</td>\n",
       "      <td>no</td>\n",
       "      <td>no</td>\n",
       "      <td>telephone</td>\n",
       "      <td>may</td>\n",
       "      <td>mon</td>\n",
       "      <td>0 - 500</td>\n",
       "    </tr>\n",
       "    <tr>\n",
       "      <th>2</th>\n",
       "      <td>37</td>\n",
       "      <td>services</td>\n",
       "      <td>married</td>\n",
       "      <td>high.school</td>\n",
       "      <td>no</td>\n",
       "      <td>yes</td>\n",
       "      <td>no</td>\n",
       "      <td>telephone</td>\n",
       "      <td>may</td>\n",
       "      <td>mon</td>\n",
       "      <td>0 - 500</td>\n",
       "    </tr>\n",
       "    <tr>\n",
       "      <th>3</th>\n",
       "      <td>40</td>\n",
       "      <td>admin.</td>\n",
       "      <td>married</td>\n",
       "      <td>basic.6y</td>\n",
       "      <td>no</td>\n",
       "      <td>no</td>\n",
       "      <td>no</td>\n",
       "      <td>telephone</td>\n",
       "      <td>may</td>\n",
       "      <td>mon</td>\n",
       "      <td>0 - 500</td>\n",
       "    </tr>\n",
       "    <tr>\n",
       "      <th>4</th>\n",
       "      <td>56</td>\n",
       "      <td>services</td>\n",
       "      <td>married</td>\n",
       "      <td>high.school</td>\n",
       "      <td>no</td>\n",
       "      <td>no</td>\n",
       "      <td>yes</td>\n",
       "      <td>telephone</td>\n",
       "      <td>may</td>\n",
       "      <td>mon</td>\n",
       "      <td>0 - 500</td>\n",
       "    </tr>\n",
       "    <tr>\n",
       "      <th>5</th>\n",
       "      <td>45</td>\n",
       "      <td>services</td>\n",
       "      <td>married</td>\n",
       "      <td>basic.9y</td>\n",
       "      <td>unknown</td>\n",
       "      <td>no</td>\n",
       "      <td>no</td>\n",
       "      <td>telephone</td>\n",
       "      <td>may</td>\n",
       "      <td>mon</td>\n",
       "      <td>0 - 500</td>\n",
       "    </tr>\n",
       "    <tr>\n",
       "      <th>6</th>\n",
       "      <td>59</td>\n",
       "      <td>admin.</td>\n",
       "      <td>married</td>\n",
       "      <td>professional.course</td>\n",
       "      <td>no</td>\n",
       "      <td>no</td>\n",
       "      <td>no</td>\n",
       "      <td>telephone</td>\n",
       "      <td>may</td>\n",
       "      <td>mon</td>\n",
       "      <td>0 - 500</td>\n",
       "    </tr>\n",
       "    <tr>\n",
       "      <th>8</th>\n",
       "      <td>24</td>\n",
       "      <td>technician</td>\n",
       "      <td>single</td>\n",
       "      <td>professional.course</td>\n",
       "      <td>no</td>\n",
       "      <td>yes</td>\n",
       "      <td>no</td>\n",
       "      <td>telephone</td>\n",
       "      <td>may</td>\n",
       "      <td>mon</td>\n",
       "      <td>0 - 500</td>\n",
       "    </tr>\n",
       "    <tr>\n",
       "      <th>9</th>\n",
       "      <td>25</td>\n",
       "      <td>services</td>\n",
       "      <td>single</td>\n",
       "      <td>high.school</td>\n",
       "      <td>no</td>\n",
       "      <td>yes</td>\n",
       "      <td>no</td>\n",
       "      <td>telephone</td>\n",
       "      <td>may</td>\n",
       "      <td>mon</td>\n",
       "      <td>0 - 500</td>\n",
       "    </tr>\n",
       "    <tr>\n",
       "      <th>11</th>\n",
       "      <td>25</td>\n",
       "      <td>services</td>\n",
       "      <td>single</td>\n",
       "      <td>high.school</td>\n",
       "      <td>no</td>\n",
       "      <td>yes</td>\n",
       "      <td>no</td>\n",
       "      <td>telephone</td>\n",
       "      <td>may</td>\n",
       "      <td>mon</td>\n",
       "      <td>0 - 500</td>\n",
       "    </tr>\n",
       "    <tr>\n",
       "      <th>12</th>\n",
       "      <td>29</td>\n",
       "      <td>blue-collar</td>\n",
       "      <td>single</td>\n",
       "      <td>high.school</td>\n",
       "      <td>no</td>\n",
       "      <td>no</td>\n",
       "      <td>yes</td>\n",
       "      <td>telephone</td>\n",
       "      <td>may</td>\n",
       "      <td>mon</td>\n",
       "      <td>0 - 500</td>\n",
       "    </tr>\n",
       "    <tr>\n",
       "      <th>13</th>\n",
       "      <td>57</td>\n",
       "      <td>housemaid</td>\n",
       "      <td>divorced</td>\n",
       "      <td>basic.4y</td>\n",
       "      <td>no</td>\n",
       "      <td>yes</td>\n",
       "      <td>no</td>\n",
       "      <td>telephone</td>\n",
       "      <td>may</td>\n",
       "      <td>mon</td>\n",
       "      <td>0 - 500</td>\n",
       "    </tr>\n",
       "    <tr>\n",
       "      <th>14</th>\n",
       "      <td>35</td>\n",
       "      <td>blue-collar</td>\n",
       "      <td>married</td>\n",
       "      <td>basic.6y</td>\n",
       "      <td>no</td>\n",
       "      <td>yes</td>\n",
       "      <td>no</td>\n",
       "      <td>telephone</td>\n",
       "      <td>may</td>\n",
       "      <td>mon</td>\n",
       "      <td>0 - 500</td>\n",
       "    </tr>\n",
       "    <tr>\n",
       "      <th>15</th>\n",
       "      <td>54</td>\n",
       "      <td>retired</td>\n",
       "      <td>married</td>\n",
       "      <td>basic.9y</td>\n",
       "      <td>unknown</td>\n",
       "      <td>yes</td>\n",
       "      <td>yes</td>\n",
       "      <td>telephone</td>\n",
       "      <td>may</td>\n",
       "      <td>mon</td>\n",
       "      <td>0 - 500</td>\n",
       "    </tr>\n",
       "    <tr>\n",
       "      <th>16</th>\n",
       "      <td>35</td>\n",
       "      <td>blue-collar</td>\n",
       "      <td>married</td>\n",
       "      <td>basic.6y</td>\n",
       "      <td>no</td>\n",
       "      <td>yes</td>\n",
       "      <td>no</td>\n",
       "      <td>telephone</td>\n",
       "      <td>may</td>\n",
       "      <td>mon</td>\n",
       "      <td>0 - 500</td>\n",
       "    </tr>\n",
       "  </tbody>\n",
       "</table>\n",
       "</div>"
      ],
      "text/plain": [
       "    age          job   marital            education  default housing loan  \\\n",
       "0    56    housemaid   married             basic.4y       no      no   no   \n",
       "1    57     services   married          high.school  unknown      no   no   \n",
       "2    37     services   married          high.school       no     yes   no   \n",
       "3    40       admin.   married             basic.6y       no      no   no   \n",
       "4    56     services   married          high.school       no      no  yes   \n",
       "5    45     services   married             basic.9y  unknown      no   no   \n",
       "6    59       admin.   married  professional.course       no      no   no   \n",
       "8    24   technician    single  professional.course       no     yes   no   \n",
       "9    25     services    single          high.school       no     yes   no   \n",
       "11   25     services    single          high.school       no     yes   no   \n",
       "12   29  blue-collar    single          high.school       no      no  yes   \n",
       "13   57    housemaid  divorced             basic.4y       no     yes   no   \n",
       "14   35  blue-collar   married             basic.6y       no     yes   no   \n",
       "15   54      retired   married             basic.9y  unknown     yes  yes   \n",
       "16   35  blue-collar   married             basic.6y       no     yes   no   \n",
       "\n",
       "      contact month day_of_week duration  \n",
       "0   telephone   may         mon  0 - 500  \n",
       "1   telephone   may         mon  0 - 500  \n",
       "2   telephone   may         mon  0 - 500  \n",
       "3   telephone   may         mon  0 - 500  \n",
       "4   telephone   may         mon  0 - 500  \n",
       "5   telephone   may         mon  0 - 500  \n",
       "6   telephone   may         mon  0 - 500  \n",
       "8   telephone   may         mon  0 - 500  \n",
       "9   telephone   may         mon  0 - 500  \n",
       "11  telephone   may         mon  0 - 500  \n",
       "12  telephone   may         mon  0 - 500  \n",
       "13  telephone   may         mon  0 - 500  \n",
       "14  telephone   may         mon  0 - 500  \n",
       "15  telephone   may         mon  0 - 500  \n",
       "16  telephone   may         mon  0 - 500  "
      ]
     },
     "execution_count": 173,
     "metadata": {},
     "output_type": "execute_result"
    }
   ],
   "source": [
    "# The \"default\" column has blank cells. Replace the blank cells with \"unknown\" \n",
    "# Print out the first 15 rows and 11 columns of the updated \"bank\" dataframe. \n",
    "# Hint: use df.replace() and the fact that NaN values can be identified with np.nan\n"
   ]
  },
  {
   "cell_type": "code",
   "execution_count": 174,
   "metadata": {},
   "outputs": [
    {
     "data": {
      "text/plain": [
       "no         30485\n",
       "unknown     7757\n",
       "yes            3\n",
       "Name: default, dtype: int64"
      ]
     },
     "execution_count": 174,
     "metadata": {},
     "output_type": "execute_result"
    }
   ],
   "source": [
    "# Print out the value counts of the unique values in the \"default\" column\n"
   ]
  },
  {
   "cell_type": "code",
   "execution_count": 175,
   "metadata": {},
   "outputs": [
    {
     "data": {
      "text/plain": [
       "no          30485\n",
       "possible     7760\n",
       "Name: default, dtype: int64"
      ]
     },
     "execution_count": 175,
     "metadata": {},
     "output_type": "execute_result"
    }
   ],
   "source": [
    "# Change all values of \"unknown\" and \"yes\" to a new value \"possible\" in the \"default\" column\n",
    "# Print out the value counts of the unique values in the updated \"default\" column\n"
   ]
  },
  {
   "cell_type": "code",
   "execution_count": 176,
   "metadata": {
    "colab": {
     "base_uri": "https://localhost:8080/",
     "height": 413
    },
    "colab_type": "code",
    "id": "7AHwf_eCKNhq",
    "outputId": "b73c4c5c-b5a7-470c-e3fe-a902781fc95b"
   },
   "outputs": [
    {
     "data": {
      "text/plain": [
       "(38245, 16)"
      ]
     },
     "execution_count": 176,
     "metadata": {},
     "output_type": "execute_result"
    }
   ],
   "source": [
    "# Delete the columns 'duration', 'month', 'day_of_week', 'pdays', 'nr.employed'. \n",
    "# Print out the shape of the updated \"bank\" dataframe.\n"
   ]
  },
  {
   "cell_type": "code",
   "execution_count": 177,
   "metadata": {},
   "outputs": [
    {
     "data": {
      "text/plain": [
       "Counter({1: 16375,\n",
       "         2: 9818,\n",
       "         3: 4956,\n",
       "         4: 2463,\n",
       "         5: 1502,\n",
       "         6: 911,\n",
       "         7: 584,\n",
       "         8: 372,\n",
       "         9: 258,\n",
       "         10: 207,\n",
       "         11: 166,\n",
       "         12: 115,\n",
       "         13: 76,\n",
       "         18: 31,\n",
       "         23: 16,\n",
       "         14: 64,\n",
       "         22: 17,\n",
       "         25: 7,\n",
       "         16: 45,\n",
       "         17: 54,\n",
       "         15: 47,\n",
       "         19: 23,\n",
       "         20: 30,\n",
       "         39: 1,\n",
       "         35: 5,\n",
       "         42: 2,\n",
       "         28: 8,\n",
       "         26: 7,\n",
       "         27: 11,\n",
       "         32: 4,\n",
       "         21: 19,\n",
       "         24: 15,\n",
       "         29: 9,\n",
       "         31: 7,\n",
       "         30: 7,\n",
       "         41: 1,\n",
       "         37: 1,\n",
       "         40: 2,\n",
       "         33: 4,\n",
       "         34: 3,\n",
       "         43: 2})"
      ]
     },
     "execution_count": 177,
     "metadata": {},
     "output_type": "execute_result"
    }
   ],
   "source": [
    "# Using the Counter function in the collections library, print out the unique values and their counts in the \"campaign\" column \n"
   ]
  },
  {
   "cell_type": "code",
   "execution_count": 178,
   "metadata": {},
   "outputs": [
    {
     "data": {
      "text/plain": [
       "Counter({'camp1': 16375, 'camp2': 9818, 'camp3': 12052})"
      ]
     },
     "execution_count": 178,
     "metadata": {},
     "output_type": "execute_result"
    }
   ],
   "source": [
    "# There are too many unique values in the \"campaign\" column. \n",
    "# Group all values in the \"campaign\" column that are less than or equal to 1 as \"camp1\",\n",
    "# group all values in the \"campaign\" column that are more than 1 but less than or equal to 2 as \"camp2\",\n",
    "# group all other values as \"camp3\".\n",
    "# Print out the unique values and their counts in the updated \"campaign\" column\n"
   ]
  },
  {
   "cell_type": "code",
   "execution_count": 179,
   "metadata": {},
   "outputs": [
    {
     "data": {
      "text/plain": [
       "Counter({0: 33066, 1: 4234, 2: 672, 3: 195, 4: 57, 5: 16, 6: 4, 7: 1})"
      ]
     },
     "execution_count": 179,
     "metadata": {},
     "output_type": "execute_result"
    }
   ],
   "source": [
    "# Print out the unique values and their counts in the \"previous\" column\n"
   ]
  },
  {
   "cell_type": "code",
   "execution_count": 180,
   "metadata": {},
   "outputs": [
    {
     "data": {
      "text/plain": [
       "Counter({0: 33066, 1: 5179})"
      ]
     },
     "execution_count": 180,
     "metadata": {},
     "output_type": "execute_result"
    }
   ],
   "source": [
    "# The majority of the values in \"previous\" has the value 0.\n",
    "# Change all non-zero values to 1\n",
    "# Print out the unique values and their counts in the updated \"previous\" column\n"
   ]
  },
  {
   "cell_type": "code",
   "execution_count": 181,
   "metadata": {},
   "outputs": [
    {
     "data": {
      "text/plain": [
       "Counter({'rate3': 10632, 'rate4': 15100, 'rate2': 9895, 'rate1': 2618})"
      ]
     },
     "execution_count": 181,
     "metadata": {},
     "output_type": "execute_result"
    }
   ],
   "source": [
    "# The column \"emp.var.rate\" contains too many unique values.\n",
    "# Group all values in the \"emp.var.rate\" column that are less than -2.5 to \"rate1\",\n",
    "# group all values in the \"emp.var.rate\" column that are more than or equal to -2.5 but less than -1 as \"rate2\",\n",
    "# group all values in the \"emp.var.rate\" column that are more than or equal to -1 but less than 1.2 as \"rate3\",\n",
    "# group all other values as \"rate4\".\n",
    "# Print out the unique values and their counts in the updated \"emp.var.rate\" column\n"
   ]
  },
  {
   "cell_type": "code",
   "execution_count": 182,
   "metadata": {},
   "outputs": [
    {
     "data": {
      "text/plain": [
       "Counter({'idx4': 13295,\n",
       "         'idx5': 5260,\n",
       "         'idx3': 5318,\n",
       "         'idx2': 6610,\n",
       "         'idx1': 7762})"
      ]
     },
     "execution_count": 182,
     "metadata": {},
     "output_type": "execute_result"
    }
   ],
   "source": [
    "# The column \"cons.price.idx\" contains too many unique values.\n",
    "# Group all values in the \"cons.price.idx\" column that are less than 92.9 to \"price1\",\n",
    "# group all values in the \"cons.price.idx\" column that are more than or equal to 92.9 but less than 93.4 as \"price2\",\n",
    "# group all values in the \"cons.price.idx\" column that are more than or equal to 93.4 but less than 93.9 as \"price3\",\n",
    "# group all values in the \"cons.price.idx\" column that are more than or equal to 93.9 but less than 94 as \"price4\",\n",
    "# group all other values as \"price5\".\n",
    "# Print out the unique values and their counts in the updated \"cons.price.idx\" column\n"
   ]
  },
  {
   "cell_type": "code",
   "execution_count": 183,
   "metadata": {},
   "outputs": [
    {
     "data": {
      "text/plain": [
       "Counter({'conf3': 12949, 'conf2': 9654, 'conf4': 7277, 'conf1': 8365})"
      ]
     },
     "execution_count": 183,
     "metadata": {},
     "output_type": "execute_result"
    }
   ],
   "source": [
    "# The column \"cons.conf.idx\" contains too many unique values.\n",
    "# Group all values in the \"cons.conf.idx\" column that are less than -46 to \"conf1\",\n",
    "# group all values in the \"cons.conf.idx\" column that are more than or equal to -46 but less than -41.8 as \"conf2\",\n",
    "# group all values in the \"cons.conf.idx\" column that are more than or equal to -41.8 but less than 36.3 as \"conf3\",\n",
    "# group all other values as \"conf4\".\n",
    "# Print out the unique values and their counts in the updated \"cons.conf.idx\" column\n"
   ]
  },
  {
   "cell_type": "code",
   "execution_count": 184,
   "metadata": {},
   "outputs": [
    {
     "data": {
      "text/plain": [
       "Counter({'emp3': 10466, 'emp4': 11856, 'emp2': 7973, 'emp1': 7950})"
      ]
     },
     "execution_count": 184,
     "metadata": {},
     "output_type": "execute_result"
    }
   ],
   "source": [
    "# The column \"emp.var.rate\" contains too many unique values.\n",
    "# Group all values in the \"euribor3m\" column that are less than 1.3 to \"emp1\",\n",
    "# group all values in the \"euribor3m\" column that are more than or equal to 1.3 but less than 4.2 as \"emp2\",\n",
    "# group all values in the \"euribor3m\" column that are more than or equal to 4.2 but less than 4.96 as \"emp3\",\n",
    "# group all other values as \"emp4\".\n",
    "# Print out the unique values and their counts in the updated \"emp.var.rate\" column\n"
   ]
  },
  {
   "cell_type": "code",
   "execution_count": 185,
   "metadata": {},
   "outputs": [
    {
     "data": {
      "text/html": [
       "<div>\n",
       "<style scoped>\n",
       "    .dataframe tbody tr th:only-of-type {\n",
       "        vertical-align: middle;\n",
       "    }\n",
       "\n",
       "    .dataframe tbody tr th {\n",
       "        vertical-align: top;\n",
       "    }\n",
       "\n",
       "    .dataframe thead th {\n",
       "        text-align: right;\n",
       "    }\n",
       "</style>\n",
       "<table border=\"1\" class=\"dataframe\">\n",
       "  <thead>\n",
       "    <tr style=\"text-align: right;\">\n",
       "      <th></th>\n",
       "      <th>age</th>\n",
       "      <th>job</th>\n",
       "      <th>marital</th>\n",
       "      <th>education</th>\n",
       "      <th>default</th>\n",
       "      <th>housing</th>\n",
       "      <th>loan</th>\n",
       "      <th>contact</th>\n",
       "      <th>campaign</th>\n",
       "      <th>previous</th>\n",
       "      <th>poutcome</th>\n",
       "      <th>emp.var.rate</th>\n",
       "      <th>cons.price.idx</th>\n",
       "      <th>cons.conf.idx</th>\n",
       "      <th>euribor3m</th>\n",
       "      <th>y</th>\n",
       "    </tr>\n",
       "  </thead>\n",
       "  <tbody>\n",
       "    <tr>\n",
       "      <th>0</th>\n",
       "      <td>56</td>\n",
       "      <td>housemaid</td>\n",
       "      <td>married</td>\n",
       "      <td>basic.4y</td>\n",
       "      <td>no</td>\n",
       "      <td>no</td>\n",
       "      <td>no</td>\n",
       "      <td>telephone</td>\n",
       "      <td>camp1</td>\n",
       "      <td>0</td>\n",
       "      <td>nonexistent</td>\n",
       "      <td>rate3</td>\n",
       "      <td>idx4</td>\n",
       "      <td>conf3</td>\n",
       "      <td>emp3</td>\n",
       "      <td>no</td>\n",
       "    </tr>\n",
       "    <tr>\n",
       "      <th>1</th>\n",
       "      <td>57</td>\n",
       "      <td>services</td>\n",
       "      <td>married</td>\n",
       "      <td>high.school</td>\n",
       "      <td>possible</td>\n",
       "      <td>no</td>\n",
       "      <td>no</td>\n",
       "      <td>telephone</td>\n",
       "      <td>camp1</td>\n",
       "      <td>0</td>\n",
       "      <td>nonexistent</td>\n",
       "      <td>rate3</td>\n",
       "      <td>idx4</td>\n",
       "      <td>conf3</td>\n",
       "      <td>emp3</td>\n",
       "      <td>no</td>\n",
       "    </tr>\n",
       "    <tr>\n",
       "      <th>2</th>\n",
       "      <td>37</td>\n",
       "      <td>services</td>\n",
       "      <td>married</td>\n",
       "      <td>high.school</td>\n",
       "      <td>no</td>\n",
       "      <td>yes</td>\n",
       "      <td>no</td>\n",
       "      <td>telephone</td>\n",
       "      <td>camp1</td>\n",
       "      <td>0</td>\n",
       "      <td>nonexistent</td>\n",
       "      <td>rate3</td>\n",
       "      <td>idx4</td>\n",
       "      <td>conf3</td>\n",
       "      <td>emp3</td>\n",
       "      <td>no</td>\n",
       "    </tr>\n",
       "    <tr>\n",
       "      <th>3</th>\n",
       "      <td>40</td>\n",
       "      <td>admin.</td>\n",
       "      <td>married</td>\n",
       "      <td>basic.6y</td>\n",
       "      <td>no</td>\n",
       "      <td>no</td>\n",
       "      <td>no</td>\n",
       "      <td>telephone</td>\n",
       "      <td>camp1</td>\n",
       "      <td>0</td>\n",
       "      <td>nonexistent</td>\n",
       "      <td>rate3</td>\n",
       "      <td>idx4</td>\n",
       "      <td>conf3</td>\n",
       "      <td>emp3</td>\n",
       "      <td>no</td>\n",
       "    </tr>\n",
       "    <tr>\n",
       "      <th>4</th>\n",
       "      <td>56</td>\n",
       "      <td>services</td>\n",
       "      <td>married</td>\n",
       "      <td>high.school</td>\n",
       "      <td>no</td>\n",
       "      <td>no</td>\n",
       "      <td>yes</td>\n",
       "      <td>telephone</td>\n",
       "      <td>camp1</td>\n",
       "      <td>0</td>\n",
       "      <td>nonexistent</td>\n",
       "      <td>rate3</td>\n",
       "      <td>idx4</td>\n",
       "      <td>conf3</td>\n",
       "      <td>emp3</td>\n",
       "      <td>no</td>\n",
       "    </tr>\n",
       "    <tr>\n",
       "      <th>5</th>\n",
       "      <td>45</td>\n",
       "      <td>services</td>\n",
       "      <td>married</td>\n",
       "      <td>basic.9y</td>\n",
       "      <td>possible</td>\n",
       "      <td>no</td>\n",
       "      <td>no</td>\n",
       "      <td>telephone</td>\n",
       "      <td>camp1</td>\n",
       "      <td>0</td>\n",
       "      <td>nonexistent</td>\n",
       "      <td>rate3</td>\n",
       "      <td>idx4</td>\n",
       "      <td>conf3</td>\n",
       "      <td>emp3</td>\n",
       "      <td>no</td>\n",
       "    </tr>\n",
       "    <tr>\n",
       "      <th>6</th>\n",
       "      <td>59</td>\n",
       "      <td>admin.</td>\n",
       "      <td>married</td>\n",
       "      <td>professional.course</td>\n",
       "      <td>no</td>\n",
       "      <td>no</td>\n",
       "      <td>no</td>\n",
       "      <td>telephone</td>\n",
       "      <td>camp1</td>\n",
       "      <td>0</td>\n",
       "      <td>nonexistent</td>\n",
       "      <td>rate3</td>\n",
       "      <td>idx4</td>\n",
       "      <td>conf3</td>\n",
       "      <td>emp3</td>\n",
       "      <td>no</td>\n",
       "    </tr>\n",
       "    <tr>\n",
       "      <th>8</th>\n",
       "      <td>24</td>\n",
       "      <td>technician</td>\n",
       "      <td>single</td>\n",
       "      <td>professional.course</td>\n",
       "      <td>no</td>\n",
       "      <td>yes</td>\n",
       "      <td>no</td>\n",
       "      <td>telephone</td>\n",
       "      <td>camp1</td>\n",
       "      <td>0</td>\n",
       "      <td>nonexistent</td>\n",
       "      <td>rate3</td>\n",
       "      <td>idx4</td>\n",
       "      <td>conf3</td>\n",
       "      <td>emp3</td>\n",
       "      <td>no</td>\n",
       "    </tr>\n",
       "    <tr>\n",
       "      <th>9</th>\n",
       "      <td>25</td>\n",
       "      <td>services</td>\n",
       "      <td>single</td>\n",
       "      <td>high.school</td>\n",
       "      <td>no</td>\n",
       "      <td>yes</td>\n",
       "      <td>no</td>\n",
       "      <td>telephone</td>\n",
       "      <td>camp1</td>\n",
       "      <td>0</td>\n",
       "      <td>nonexistent</td>\n",
       "      <td>rate3</td>\n",
       "      <td>idx4</td>\n",
       "      <td>conf3</td>\n",
       "      <td>emp3</td>\n",
       "      <td>no</td>\n",
       "    </tr>\n",
       "    <tr>\n",
       "      <th>11</th>\n",
       "      <td>25</td>\n",
       "      <td>services</td>\n",
       "      <td>single</td>\n",
       "      <td>high.school</td>\n",
       "      <td>no</td>\n",
       "      <td>yes</td>\n",
       "      <td>no</td>\n",
       "      <td>telephone</td>\n",
       "      <td>camp1</td>\n",
       "      <td>0</td>\n",
       "      <td>nonexistent</td>\n",
       "      <td>rate3</td>\n",
       "      <td>idx4</td>\n",
       "      <td>conf3</td>\n",
       "      <td>emp3</td>\n",
       "      <td>no</td>\n",
       "    </tr>\n",
       "    <tr>\n",
       "      <th>12</th>\n",
       "      <td>29</td>\n",
       "      <td>blue-collar</td>\n",
       "      <td>single</td>\n",
       "      <td>high.school</td>\n",
       "      <td>no</td>\n",
       "      <td>no</td>\n",
       "      <td>yes</td>\n",
       "      <td>telephone</td>\n",
       "      <td>camp1</td>\n",
       "      <td>0</td>\n",
       "      <td>nonexistent</td>\n",
       "      <td>rate3</td>\n",
       "      <td>idx4</td>\n",
       "      <td>conf3</td>\n",
       "      <td>emp3</td>\n",
       "      <td>no</td>\n",
       "    </tr>\n",
       "    <tr>\n",
       "      <th>13</th>\n",
       "      <td>57</td>\n",
       "      <td>housemaid</td>\n",
       "      <td>divorced</td>\n",
       "      <td>basic.4y</td>\n",
       "      <td>no</td>\n",
       "      <td>yes</td>\n",
       "      <td>no</td>\n",
       "      <td>telephone</td>\n",
       "      <td>camp1</td>\n",
       "      <td>0</td>\n",
       "      <td>nonexistent</td>\n",
       "      <td>rate3</td>\n",
       "      <td>idx4</td>\n",
       "      <td>conf3</td>\n",
       "      <td>emp3</td>\n",
       "      <td>no</td>\n",
       "    </tr>\n",
       "    <tr>\n",
       "      <th>14</th>\n",
       "      <td>35</td>\n",
       "      <td>blue-collar</td>\n",
       "      <td>married</td>\n",
       "      <td>basic.6y</td>\n",
       "      <td>no</td>\n",
       "      <td>yes</td>\n",
       "      <td>no</td>\n",
       "      <td>telephone</td>\n",
       "      <td>camp1</td>\n",
       "      <td>0</td>\n",
       "      <td>nonexistent</td>\n",
       "      <td>rate3</td>\n",
       "      <td>idx4</td>\n",
       "      <td>conf3</td>\n",
       "      <td>emp3</td>\n",
       "      <td>no</td>\n",
       "    </tr>\n",
       "    <tr>\n",
       "      <th>15</th>\n",
       "      <td>54</td>\n",
       "      <td>retired</td>\n",
       "      <td>married</td>\n",
       "      <td>basic.9y</td>\n",
       "      <td>possible</td>\n",
       "      <td>yes</td>\n",
       "      <td>yes</td>\n",
       "      <td>telephone</td>\n",
       "      <td>camp1</td>\n",
       "      <td>0</td>\n",
       "      <td>nonexistent</td>\n",
       "      <td>rate3</td>\n",
       "      <td>idx4</td>\n",
       "      <td>conf3</td>\n",
       "      <td>emp3</td>\n",
       "      <td>no</td>\n",
       "    </tr>\n",
       "    <tr>\n",
       "      <th>16</th>\n",
       "      <td>35</td>\n",
       "      <td>blue-collar</td>\n",
       "      <td>married</td>\n",
       "      <td>basic.6y</td>\n",
       "      <td>no</td>\n",
       "      <td>yes</td>\n",
       "      <td>no</td>\n",
       "      <td>telephone</td>\n",
       "      <td>camp1</td>\n",
       "      <td>0</td>\n",
       "      <td>nonexistent</td>\n",
       "      <td>rate3</td>\n",
       "      <td>idx4</td>\n",
       "      <td>conf3</td>\n",
       "      <td>emp3</td>\n",
       "      <td>no</td>\n",
       "    </tr>\n",
       "  </tbody>\n",
       "</table>\n",
       "</div>"
      ],
      "text/plain": [
       "    age          job   marital            education   default housing loan  \\\n",
       "0    56    housemaid   married             basic.4y        no      no   no   \n",
       "1    57     services   married          high.school  possible      no   no   \n",
       "2    37     services   married          high.school        no     yes   no   \n",
       "3    40       admin.   married             basic.6y        no      no   no   \n",
       "4    56     services   married          high.school        no      no  yes   \n",
       "5    45     services   married             basic.9y  possible      no   no   \n",
       "6    59       admin.   married  professional.course        no      no   no   \n",
       "8    24   technician    single  professional.course        no     yes   no   \n",
       "9    25     services    single          high.school        no     yes   no   \n",
       "11   25     services    single          high.school        no     yes   no   \n",
       "12   29  blue-collar    single          high.school        no      no  yes   \n",
       "13   57    housemaid  divorced             basic.4y        no     yes   no   \n",
       "14   35  blue-collar   married             basic.6y        no     yes   no   \n",
       "15   54      retired   married             basic.9y  possible     yes  yes   \n",
       "16   35  blue-collar   married             basic.6y        no     yes   no   \n",
       "\n",
       "      contact campaign  previous     poutcome emp.var.rate cons.price.idx  \\\n",
       "0   telephone    camp1         0  nonexistent        rate3           idx4   \n",
       "1   telephone    camp1         0  nonexistent        rate3           idx4   \n",
       "2   telephone    camp1         0  nonexistent        rate3           idx4   \n",
       "3   telephone    camp1         0  nonexistent        rate3           idx4   \n",
       "4   telephone    camp1         0  nonexistent        rate3           idx4   \n",
       "5   telephone    camp1         0  nonexistent        rate3           idx4   \n",
       "6   telephone    camp1         0  nonexistent        rate3           idx4   \n",
       "8   telephone    camp1         0  nonexistent        rate3           idx4   \n",
       "9   telephone    camp1         0  nonexistent        rate3           idx4   \n",
       "11  telephone    camp1         0  nonexistent        rate3           idx4   \n",
       "12  telephone    camp1         0  nonexistent        rate3           idx4   \n",
       "13  telephone    camp1         0  nonexistent        rate3           idx4   \n",
       "14  telephone    camp1         0  nonexistent        rate3           idx4   \n",
       "15  telephone    camp1         0  nonexistent        rate3           idx4   \n",
       "16  telephone    camp1         0  nonexistent        rate3           idx4   \n",
       "\n",
       "   cons.conf.idx euribor3m   y  \n",
       "0          conf3      emp3  no  \n",
       "1          conf3      emp3  no  \n",
       "2          conf3      emp3  no  \n",
       "3          conf3      emp3  no  \n",
       "4          conf3      emp3  no  \n",
       "5          conf3      emp3  no  \n",
       "6          conf3      emp3  no  \n",
       "8          conf3      emp3  no  \n",
       "9          conf3      emp3  no  \n",
       "11         conf3      emp3  no  \n",
       "12         conf3      emp3  no  \n",
       "13         conf3      emp3  no  \n",
       "14         conf3      emp3  no  \n",
       "15         conf3      emp3  no  \n",
       "16         conf3      emp3  no  "
      ]
     },
     "execution_count": 185,
     "metadata": {},
     "output_type": "execute_result"
    }
   ],
   "source": [
    "# Print out the first 15 rows of \"bank\" to check\n"
   ]
  },
  {
   "cell_type": "markdown",
   "metadata": {
    "colab_type": "text",
    "id": "04xuW4DxWOY9"
   },
   "source": [
    "# Q3. Data Prep (4 marks)\n",
    "\n",
    "*Note: Use **\"bank-additional-cleansed.csv\"** to commence this portion if you have not attempted Q2.*\n",
    "\n",
    "1. Convert the categorical values in the \"bank\" dataframe to dummy variables. Do NOT convert \"age\", \"previous\" and \"y\". Print out the shape of bank after each transformation (4 marks)"
   ]
  },
  {
   "cell_type": "code",
   "execution_count": 186,
   "metadata": {
    "colab": {
     "base_uri": "https://localhost:8080/",
     "height": 85
    },
    "colab_type": "code",
    "id": "AzRu1HktWOZG",
    "outputId": "f5bad949-954f-49f1-a0a1-b93c68144a87"
   },
   "outputs": [
    {
     "data": {
      "text/plain": [
       "Index(['age', 'job', 'marital', 'education', 'default', 'housing', 'loan',\n",
       "       'contact', 'campaign', 'previous', 'poutcome', 'emp.var.rate',\n",
       "       'cons.price.idx', 'cons.conf.idx', 'euribor3m', 'y'],\n",
       "      dtype='object')"
      ]
     },
     "execution_count": 186,
     "metadata": {},
     "output_type": "execute_result"
    }
   ],
   "source": [
    "# Print all the column names of the dataframe \"bank\"\n"
   ]
  },
  {
   "cell_type": "code",
   "execution_count": 187,
   "metadata": {
    "colab": {
     "base_uri": "https://localhost:8080/",
     "height": 153
    },
    "colab_type": "code",
    "id": "agk5ZKSlyGvn",
    "outputId": "64a578c7-1182-4366-f2f3-66a8247c6af3"
   },
   "outputs": [
    {
     "name": "stdout",
     "output_type": "stream",
     "text": [
      "(38245, 26)\n",
      "(38245, 28)\n",
      "(38245, 34)\n",
      "(38245, 35)\n",
      "(38245, 36)\n",
      "(38245, 37)\n",
      "(38245, 38)\n",
      "(38245, 40)\n",
      "(38245, 42)\n",
      "(38245, 45)\n",
      "(38245, 49)\n",
      "(38245, 52)\n",
      "(38245, 55)\n"
     ]
    }
   ],
   "source": [
    "# Convert the categorical values in the \"bank\" dataframe to dummy variables. \n",
    "# Do NOT convert \"age\", \"previous\" and \"y\"\n",
    "# Print out the shape of bank after each transformation\n"
   ]
  },
  {
   "cell_type": "markdown",
   "metadata": {
    "colab_type": "text",
    "id": "UCMkHtcwWOZq"
   },
   "source": [
    "# Q4. Features separation (3 marks)\n",
    "\n",
    "1. Put into a variable \"x\" all the values in all but the column \"Incomes\".  (1 mark)\n",
    "2. Put into a variable \"y\" all the values in the column \"Incomes\".  (1 mark)\n",
    "3. Print out the first 5 rows and shapes of both x and y. (1 mark)"
   ]
  },
  {
   "cell_type": "code",
   "execution_count": 147,
   "metadata": {
    "colab": {
     "base_uri": "https://localhost:8080/",
     "height": 714
    },
    "colab_type": "code",
    "id": "uYzlWfHZ1PrG",
    "outputId": "760676d3-ee99-4def-f6e9-527501a03acc"
   },
   "outputs": [
    {
     "name": "stdout",
     "output_type": "stream",
     "text": [
      "   age  previous  admin.  blue-collar  entrepreneur  housemaid  management  \\\n",
      "0   56         0       0            0             0          1           0   \n",
      "1   57         0       0            0             0          0           0   \n",
      "2   37         0       0            0             0          0           0   \n",
      "3   40         0       1            0             0          0           0   \n",
      "4   56         0       0            0             0          0           0   \n",
      "\n",
      "   retired  self-employed  services  ...   idx4  idx5  conf1  conf2  conf3  \\\n",
      "0        0              0         0  ...      1     0      0      0      1   \n",
      "1        0              0         1  ...      1     0      0      0      1   \n",
      "2        0              0         1  ...      1     0      0      0      1   \n",
      "3        0              0         0  ...      1     0      0      0      1   \n",
      "4        0              0         1  ...      1     0      0      0      1   \n",
      "\n",
      "   conf4  emp1  emp2  emp3  emp4  \n",
      "0      0     0     0     1     0  \n",
      "1      0     0     0     1     0  \n",
      "2      0     0     0     1     0  \n",
      "3      0     0     0     1     0  \n",
      "4      0     0     0     1     0  \n",
      "\n",
      "[5 rows x 54 columns]\n",
      "\n",
      "\n",
      "\n",
      "    y\n",
      "0  no\n",
      "1  no\n",
      "2  no\n",
      "3  no\n",
      "4  no\n",
      "\n",
      "(38245, 54)\n",
      "(38245, 1)\n"
     ]
    }
   ],
   "source": [
    "# Put into a variable \"x\" all the values in all but the column \"y\". \n",
    "# Put into a variable \"y\" all the values in the column \"y\". \n",
    "# Print out the first 5 rows and shapes of both x and y. \n"
   ]
  },
  {
   "cell_type": "markdown",
   "metadata": {
    "colab_type": "text",
    "id": "mnmm4cTRWOcU"
   },
   "source": [
    "# Q5. Training models (3 marks)\n",
    "\n",
    "1. Run code given as is.\n",
    "2. Do a split-validation of features \"x\" and labels \"y\". Use a random_state of 111. Score the models using accuracy_score, saving the mean into a variable \"scores\". Save also the name of the models under a variable \"names\". Print out \"scores\" and \"names. (2 marks)\n",
    "4. Compare the accuracy of the models, sorting your answer in descending order of score. (1 mark)"
   ]
  },
  {
   "cell_type": "code",
   "execution_count": 148,
   "metadata": {
    "colab": {},
    "colab_type": "code",
    "id": "R3snpH5aWOcn"
   },
   "outputs": [
    {
     "name": "stderr",
     "output_type": "stream",
     "text": [
      "C:\\Users\\jasonc\\AppData\\Local\\Continuum\\anaconda3\\lib\\site-packages\\sklearn\\ensemble\\weight_boosting.py:29: DeprecationWarning: numpy.core.umath_tests is an internal NumPy module and should not be imported. It will be removed in a future NumPy release.\n",
      "  from numpy.core.umath_tests import inner1d\n"
     ]
    }
   ],
   "source": [
    "# Run the following code as is.\n",
    "from sklearn.neighbors import KNeighborsClassifier\n",
    "from sklearn.svm import SVC\n",
    "from sklearn.linear_model import LogisticRegression\n",
    "from sklearn.tree import DecisionTreeClassifier\n",
    "from sklearn.naive_bayes import GaussianNB\n",
    "from sklearn.ensemble import RandomForestClassifier\n",
    "from sklearn.ensemble import GradientBoostingClassifier"
   ]
  },
  {
   "cell_type": "code",
   "execution_count": 149,
   "metadata": {
    "colab": {},
    "colab_type": "code",
    "id": "l6gb2pLjWOdj"
   },
   "outputs": [],
   "source": [
    "# Run the following code as is.\n",
    "models = []\n",
    "models.append(('KNN', KNeighborsClassifier()))\n",
    "models.append(('SVM', SVC()))\n",
    "models.append(('LR', LogisticRegression()))\n",
    "models.append(('DT', DecisionTreeClassifier()))\n",
    "models.append(('GNB', GaussianNB()))\n",
    "models.append(('RF', RandomForestClassifier()))\n",
    "models.append(('GB', GradientBoostingClassifier()))"
   ]
  },
  {
   "cell_type": "code",
   "execution_count": 150,
   "metadata": {
    "colab": {},
    "colab_type": "code",
    "id": "PFxKEyRqXlbI"
   },
   "outputs": [],
   "source": [
    "# Run the following code as is.\n",
    "# Import train_test_split and accuracy_score\n",
    "from sklearn.model_selection import train_test_split\n",
    "from sklearn.metrics import accuracy_score"
   ]
  },
  {
   "cell_type": "code",
   "execution_count": 152,
   "metadata": {
    "colab": {},
    "colab_type": "code",
    "id": "O7T-VD8QXe4P"
   },
   "outputs": [],
   "source": [
    "# Do a split-validation of features \"x\" and labels \"y\". Use a random_state of 111. \n"
   ]
  },
  {
   "cell_type": "code",
   "execution_count": 153,
   "metadata": {
    "colab": {},
    "colab_type": "code",
    "id": "gVeNaCLnW1Db"
   },
   "outputs": [],
   "source": [
    "# Score the models using accuracy_score, saving the mean into a variable \"scores\". \n",
    "# Save also the name of the models under a variable \"names\". Print out \"scores\" and \"names.\n"
   ]
  },
  {
   "cell_type": "code",
   "execution_count": 156,
   "metadata": {
    "colab": {
     "base_uri": "https://localhost:8080/",
     "height": 153
    },
    "colab_type": "code",
    "id": "xxT1t_VAjjuU",
    "outputId": "2ebcdcda-dcea-406e-d387-1428e39697ab"
   },
   "outputs": [
    {
     "name": "stdout",
     "output_type": "stream",
     "text": [
      "  Name     Score\n",
      "6   GB  0.904622\n",
      "2   LR  0.902845\n",
      "1  SVM  0.900858\n",
      "0  KNN  0.892387\n",
      "5   RF  0.883811\n",
      "3   DT  0.848358\n",
      "4  GNB  0.802029\n"
     ]
    }
   ],
   "source": [
    "# Compare the accuracy of the models, sorting your answer in descending order of score.\n"
   ]
  },
  {
   "cell_type": "markdown",
   "metadata": {
    "colab_type": "text",
    "id": "EZZl775QWOeO"
   },
   "source": [
    "# Q6. Weight of features of best model (4 marks)\n",
    "\n",
    "1. Create a variable features_weight, containing the name of the feature and the corresponding weight the best model found in Q5 above.  (2 marks)\n",
    "2. Create a variable selectedFeatures, filtering out the features with importance weights above 0.03.  (2 marks)"
   ]
  },
  {
   "cell_type": "code",
   "execution_count": 157,
   "metadata": {
    "colab": {
     "base_uri": "https://localhost:8080/",
     "height": 306
    },
    "colab_type": "code",
    "id": "Li14y7rGjjn0",
    "outputId": "013a3cfd-a541-4d29-8724-12049c9e7577"
   },
   "outputs": [
    {
     "data": {
      "text/plain": [
       "array([0.1982842 , 0.00160127, 0.01312647, 0.01278795, 0.00523604,\n",
       "       0.        , 0.00360931, 0.00030147, 0.00440926, 0.00227869,\n",
       "       0.00914511, 0.00678492, 0.        , 0.00735399, 0.00261121,\n",
       "       0.00656342, 0.00659393, 0.0087799 , 0.00854914, 0.00340536,\n",
       "       0.00833844, 0.00628665, 0.02453027, 0.00921543, 0.00691429,\n",
       "       0.00751917, 0.00655434, 0.0099177 , 0.00125164, 0.01819218,\n",
       "       0.01828274, 0.00089357, 0.00211837, 0.00554652, 0.03175593,\n",
       "       0.00523227, 0.07382167, 0.00751446, 0.06042117, 0.01827546,\n",
       "       0.00870559, 0.04564186, 0.02916239, 0.04901764, 0.        ,\n",
       "       0.02350252, 0.05341456, 0.00048893, 0.0122538 , 0.01651547,\n",
       "       0.04559068, 0.04793329, 0.04309353, 0.00067579])"
      ]
     },
     "execution_count": 157,
     "metadata": {},
     "output_type": "execute_result"
    }
   ],
   "source": [
    "# Print out importances of features of best model\n"
   ]
  },
  {
   "cell_type": "code",
   "execution_count": 160,
   "metadata": {
    "colab": {
     "base_uri": "https://localhost:8080/",
     "height": 1394
    },
    "colab_type": "code",
    "id": "3_Scxw0d7YOZ",
    "outputId": "34799066-4d6c-405f-c0f9-234466514a49"
   },
   "outputs": [
    {
     "data": {
      "text/plain": [
       "[('age', 0.1982842032630798),\n",
       " ('previous', 0.0016012735265749519),\n",
       " ('admin.', 0.013126472385582049),\n",
       " ('blue-collar', 0.01278794843772948),\n",
       " ('entrepreneur', 0.005236039338758302),\n",
       " ('housemaid', 0.0),\n",
       " ('management', 0.0036093123948115736),\n",
       " ('retired', 0.00030147427476009676),\n",
       " ('self-employed', 0.0044092559386982024),\n",
       " ('services', 0.0022786920977906134),\n",
       " ('student', 0.00914510560622986),\n",
       " ('technician', 0.006784919118293523),\n",
       " ('unemployed', 0.0),\n",
       " ('divorced', 0.007353987943275366),\n",
       " ('married', 0.0026112102028158905),\n",
       " ('single', 0.006563424042352946),\n",
       " ('basic.4y', 0.006593927113113176),\n",
       " ('basic.6y', 0.008779897119294335),\n",
       " ('basic.9y', 0.008549143004872924),\n",
       " ('high.school', 0.003405362725622867),\n",
       " ('illiterate', 0.008338444934163242),\n",
       " ('professional.course', 0.006286648658750426),\n",
       " ('university.degree', 0.02453027495735955),\n",
       " ('no', 0.009215432691004643),\n",
       " ('possible', 0.006914288975530741),\n",
       " ('no', 0.007519173922952519),\n",
       " ('yes', 0.006554341288676586),\n",
       " ('no', 0.009917703870948284),\n",
       " ('yes', 0.0012516436038421685),\n",
       " ('cellular', 0.01819218100964827),\n",
       " ('telephone', 0.01828273935230241),\n",
       " ('camp1', 0.0008935741748960963),\n",
       " ('camp2', 0.002118371358356097),\n",
       " ('camp3', 0.005546524240026072),\n",
       " ('failure', 0.03175592885507891),\n",
       " ('nonexistent', 0.005232267316581198),\n",
       " ('success', 0.07382167103302328),\n",
       " ('rate1', 0.007514460635472536),\n",
       " ('rate2', 0.060421174086765915),\n",
       " ('rate3', 0.01827546017801125),\n",
       " ('rate4', 0.00870559201915443),\n",
       " ('idx1', 0.04564186180763073),\n",
       " ('idx2', 0.029162387747032774),\n",
       " ('idx3', 0.04901764005188924),\n",
       " ('idx4', 0.0),\n",
       " ('idx5', 0.023502520239330797),\n",
       " ('conf1', 0.05341455823743477),\n",
       " ('conf2', 0.0004889259553799733),\n",
       " ('conf3', 0.012253801212440584),\n",
       " ('conf4', 0.01651546730300735),\n",
       " ('emp1', 0.04559067574662615),\n",
       " ('emp2', 0.04793329413980028),\n",
       " ('emp3', 0.04309353434927446),\n",
       " ('emp4', 0.0006757875139523624)]"
      ]
     },
     "execution_count": 160,
     "metadata": {},
     "output_type": "execute_result"
    }
   ],
   "source": [
    "# Create a variable features_weight, containing the name of the feature and the \n",
    "# corresponding weight the best model found in Q5 above. \n"
   ]
  },
  {
   "cell_type": "code",
   "execution_count": 188,
   "metadata": {
    "colab": {
     "base_uri": "https://localhost:8080/",
     "height": 204
    },
    "colab_type": "code",
    "id": "9Lk6y_e6ZFNa",
    "outputId": "6fb223ef-b468-4c66-e49a-bcae3426210c"
   },
   "outputs": [
    {
     "data": {
      "text/plain": [
       "[('age', 0.1982842032630798),\n",
       " ('failure', 0.03175592885507891),\n",
       " ('success', 0.07382167103302328),\n",
       " ('rate2', 0.060421174086765915),\n",
       " ('idx1', 0.04564186180763073),\n",
       " ('idx3', 0.04901764005188924),\n",
       " ('conf1', 0.05341455823743477),\n",
       " ('emp1', 0.04559067574662615),\n",
       " ('emp2', 0.04793329413980028),\n",
       " ('emp3', 0.04309353434927446)]"
      ]
     },
     "execution_count": 188,
     "metadata": {},
     "output_type": "execute_result"
    }
   ],
   "source": [
    "#Create a variable selectedFeatures, filtering out the features with importance weights above 0.03.\n"
   ]
  },
  {
   "cell_type": "markdown",
   "metadata": {
    "colab_type": "text",
    "id": "4zYxuDCArQxf"
   },
   "source": [
    "# Q7. Visualization of features weight (2 marks)\n",
    "\n",
    "1. Plot a bar chart showing the weights vs features as contained in selectedFeatures.  (2 marks)"
   ]
  },
  {
   "cell_type": "code",
   "execution_count": 164,
   "metadata": {
    "colab": {
     "base_uri": "https://localhost:8080/",
     "height": 425
    },
    "colab_type": "code",
    "id": "ZyTyHdeTZ1CL",
    "outputId": "9a56d9fa-0c85-4337-e3be-2a9bb11ea633"
   },
   "outputs": [
    {
     "data": {
      "image/png": "[encoded data removed]",
      "text/plain": [
       "<Figure size 432x288 with 1 Axes>"
      ]
     },
     "metadata": {
      "needs_background": "light"
     },
     "output_type": "display_data"
    }
   ],
   "source": [
    "import matplotlib.pyplot as plt\n"
   ]
  },
  {
   "cell_type": "markdown",
   "metadata": {
    "colab_type": "text",
    "id": "fuAW9Q4Jw8Hc"
   },
   "source": [
    "# END OF SECTION C"
   ]
  },
  {
   "cell_type": "code",
   "execution_count": null,
   "metadata": {
    "colab": {},
    "colab_type": "code",
    "id": "VK-0D4xxw9b-"
   },
   "outputs": [],
   "source": []
  }
 ],
 "metadata": {
  "colab": {
   "collapsed_sections": [],
   "name": "Q3 Machine Learning Rev - full solutions v2.ipynb",
   "provenance": [],
   "version": "0.3.2"
  },
  "kernelspec": {
   "display_name": "Python 3",
   "language": "python",
   "name": "python3"
  },
  "language_info": {
   "codemirror_mode": {
    "name": "ipython",
    "version": 3
   },
   "file_extension": ".py",
   "mimetype": "text/x-python",
   "name": "python",
   "nbconvert_exporter": "python",
   "pygments_lexer": "ipython3",
   "version": "3.7.0"
  }
 },
 "nbformat": 4,
 "nbformat_minor": 2
}
