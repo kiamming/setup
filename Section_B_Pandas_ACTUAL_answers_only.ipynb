{
 "cells": [
  {
   "cell_type": "markdown",
   "metadata": {
    "colab_type": "text",
    "id": "mzSMv8DdB47e"
   },
   "source": [
    "# Section B: Pandas\n",
    "\n",
    "This section is composed of 6 parts with a total of 30 marks. You will be given empty code cells and the expected output. The final submission will be this Jupyter notebook with the code filled in.\n",
    "\n",
    "1. Read the Datasets (8 marks) \n",
    "2. Descriptive Statistics (4 marks) \n",
    "3. Data Cleaning (8 marks) \n",
    "4. Data Visualization (8 marks) \n",
    "5. Filtering Rows (4 marks)  \n",
    "6. Merge Dataframes ( 8 marks) "
   ]
  },
  {
   "cell_type": "markdown",
   "metadata": {
    "colab_type": "text",
    "id": "PWevRJdlB47o"
   },
   "source": [
    "## Import Libraries"
   ]
  },
  {
   "cell_type": "code",
   "execution_count": null,
   "metadata": {
    "colab": {},
    "colab_type": "code",
    "id": "bbwAmrw3B47v"
   },
   "outputs": [],
   "source": [
    "import pandas as pd\n",
    "import numpy as np\n",
    "import matplotlib"
   ]
  },
  {
   "cell_type": "markdown",
   "metadata": {
    "colab_type": "text",
    "id": "LuRYhJ6sB48F"
   },
   "source": [
    "The test will be based off a dataset about book reviews. You can download the data from the Polymall in the\n",
    "folder called bookreviews. It will contain 3 files:\n",
    "\n",
    "1. books.csv \n",
    "2. users.csv \n",
    "3. book_ratings.csv "
   ]
  },
  {
   "cell_type": "markdown",
   "metadata": {
    "colab_type": "text",
    "id": "ogWMyHF0B48f"
   },
   "source": [
    "# Q1. Use Pandas to Read the Dataset (Total: 6 marks)\n",
    "\n",
    "1. Use pandas to read the three csv files into three dataframes. (3 marks)\n",
    "2. Print the first five rows of each of the dataframes. (3 marks)"
   ]
  },
  {
   "cell_type": "code",
   "execution_count": null,
   "metadata": {
    "colab": {
     "base_uri": "https://localhost:8080/",
     "height": 531
    },
    "colab_type": "code",
    "id": "lihSOZRmB48m",
    "outputId": "8dd01713-f7c8-4134-dcc4-eb89639c90ef"
   },
   "outputs": [
    {
     "name": "stdout",
     "output_type": "stream",
     "text": [
      "(100000, 3)\n"
     ]
    },
    {
     "data": {
      "text/html": [
       "<div>\n",
       "<style scoped>\n",
       "    .dataframe tbody tr th:only-of-type {\n",
       "        vertical-align: middle;\n",
       "    }\n",
       "\n",
       "    .dataframe tbody tr th {\n",
       "        vertical-align: top;\n",
       "    }\n",
       "\n",
       "    .dataframe thead th {\n",
       "        text-align: right;\n",
       "    }\n",
       "</style>\n",
       "<table border=\"1\" class=\"dataframe\">\n",
       "  <thead>\n",
       "    <tr style=\"text-align: right;\">\n",
       "      <th></th>\n",
       "      <th>id</th>\n",
       "      <th>isbn</th>\n",
       "      <th>Book-Rating</th>\n",
       "    </tr>\n",
       "  </thead>\n",
       "  <tbody>\n",
       "    <tr>\n",
       "      <th>0</th>\n",
       "      <td>276725</td>\n",
       "      <td>034545104X</td>\n",
       "      <td>0</td>\n",
       "    </tr>\n",
       "    <tr>\n",
       "      <th>1</th>\n",
       "      <td>276726</td>\n",
       "      <td>0155061224</td>\n",
       "      <td>5</td>\n",
       "    </tr>\n",
       "    <tr>\n",
       "      <th>2</th>\n",
       "      <td>276727</td>\n",
       "      <td>0446520802</td>\n",
       "      <td>0</td>\n",
       "    </tr>\n",
       "    <tr>\n",
       "      <th>3</th>\n",
       "      <td>276729</td>\n",
       "      <td>052165615X</td>\n",
       "      <td>3</td>\n",
       "    </tr>\n",
       "    <tr>\n",
       "      <th>4</th>\n",
       "      <td>276729</td>\n",
       "      <td>0521795028</td>\n",
       "      <td>6</td>\n",
       "    </tr>\n",
       "  </tbody>\n",
       "</table>\n",
       "</div>"
      ],
      "text/plain": [
       "       id        isbn  Book-Rating\n",
       "0  276725  034545104X            0\n",
       "1  276726  0155061224            5\n",
       "2  276727  0446520802            0\n",
       "3  276729  052165615X            3\n",
       "4  276729  0521795028            6"
      ]
     },
     "execution_count": 47,
     "metadata": {
      "tags": []
     },
     "output_type": "execute_result"
    }
   ],
   "source": [
    "#read book_ratings and print first five rows and shape\n"
   ]
  },
  {
   "cell_type": "code",
   "execution_count": null,
   "metadata": {
    "colab": {
     "base_uri": "https://localhost:8080/",
     "height": 204
    },
    "colab_type": "code",
    "id": "PMJhWzzoB487",
    "outputId": "4708b739-b0a7-4b4e-a290-3b83d60d77c8"
   },
   "outputs": [
    {
     "name": "stdout",
     "output_type": "stream",
     "text": [
      "(100000, 5)\n"
     ]
    },
    {
     "data": {
      "text/html": [
       "<div>\n",
       "<style scoped>\n",
       "    .dataframe tbody tr th:only-of-type {\n",
       "        vertical-align: middle;\n",
       "    }\n",
       "\n",
       "    .dataframe tbody tr th {\n",
       "        vertical-align: top;\n",
       "    }\n",
       "\n",
       "    .dataframe thead th {\n",
       "        text-align: right;\n",
       "    }\n",
       "</style>\n",
       "<table border=\"1\" class=\"dataframe\">\n",
       "  <thead>\n",
       "    <tr style=\"text-align: right;\">\n",
       "      <th></th>\n",
       "      <th>isbn</th>\n",
       "      <th>book-title</th>\n",
       "      <th>book-author</th>\n",
       "      <th>year-of-publication</th>\n",
       "      <th>publisher</th>\n",
       "    </tr>\n",
       "  </thead>\n",
       "  <tbody>\n",
       "    <tr>\n",
       "      <th>0</th>\n",
       "      <td>0195153448</td>\n",
       "      <td>classical mythology</td>\n",
       "      <td>mark p. o. morford</td>\n",
       "      <td>2002</td>\n",
       "      <td>oxford university press</td>\n",
       "    </tr>\n",
       "    <tr>\n",
       "      <th>1</th>\n",
       "      <td>0002005018</td>\n",
       "      <td>clara callan</td>\n",
       "      <td>richard bruce wright</td>\n",
       "      <td>2001</td>\n",
       "      <td>harperflamingo canada</td>\n",
       "    </tr>\n",
       "    <tr>\n",
       "      <th>2</th>\n",
       "      <td>0060973129</td>\n",
       "      <td>decision in normandy</td>\n",
       "      <td>carlo d'este</td>\n",
       "      <td>1991</td>\n",
       "      <td>harperperennial</td>\n",
       "    </tr>\n",
       "    <tr>\n",
       "      <th>3</th>\n",
       "      <td>0374157065</td>\n",
       "      <td>flu the story of the great influenza pandemic ...</td>\n",
       "      <td>gina bari kolata</td>\n",
       "      <td>1999</td>\n",
       "      <td>farrar straus giroux</td>\n",
       "    </tr>\n",
       "    <tr>\n",
       "      <th>4</th>\n",
       "      <td>0399135782</td>\n",
       "      <td>the kitchen god's wife</td>\n",
       "      <td>amy tan</td>\n",
       "      <td>1991</td>\n",
       "      <td>putnam pub group</td>\n",
       "    </tr>\n",
       "  </tbody>\n",
       "</table>\n",
       "</div>"
      ],
      "text/plain": [
       "         isbn                                         book-title  \\\n",
       "0  0195153448                                classical mythology   \n",
       "1  0002005018                                       clara callan   \n",
       "2  0060973129                               decision in normandy   \n",
       "3  0374157065  flu the story of the great influenza pandemic ...   \n",
       "4  0399135782                             the kitchen god's wife   \n",
       "\n",
       "            book-author  year-of-publication                publisher  \n",
       "0    mark p. o. morford                 2002  oxford university press  \n",
       "1  richard bruce wright                 2001    harperflamingo canada  \n",
       "2          carlo d'este                 1991          harperperennial  \n",
       "3      gina bari kolata                 1999     farrar straus giroux  \n",
       "4               amy tan                 1991         putnam pub group  "
      ]
     },
     "execution_count": 20,
     "metadata": {
      "tags": []
     },
     "output_type": "execute_result"
    }
   ],
   "source": [
    "#read books.csv and print first five rows and shape\n"
   ]
  },
  {
   "cell_type": "code",
   "execution_count": null,
   "metadata": {
    "colab": {
     "base_uri": "https://localhost:8080/",
     "height": 204
    },
    "colab_type": "code",
    "id": "7hX6whP0B49O",
    "outputId": "7a35c433-7322-4e19-b1cc-5cebef9088a6"
   },
   "outputs": [
    {
     "name": "stdout",
     "output_type": "stream",
     "text": [
      "(100000, 3)\n"
     ]
    },
    {
     "data": {
      "text/html": [
       "<div>\n",
       "<style scoped>\n",
       "    .dataframe tbody tr th:only-of-type {\n",
       "        vertical-align: middle;\n",
       "    }\n",
       "\n",
       "    .dataframe tbody tr th {\n",
       "        vertical-align: top;\n",
       "    }\n",
       "\n",
       "    .dataframe thead th {\n",
       "        text-align: right;\n",
       "    }\n",
       "</style>\n",
       "<table border=\"1\" class=\"dataframe\">\n",
       "  <thead>\n",
       "    <tr style=\"text-align: right;\">\n",
       "      <th></th>\n",
       "      <th>User-ID</th>\n",
       "      <th>Location</th>\n",
       "      <th>Age</th>\n",
       "    </tr>\n",
       "  </thead>\n",
       "  <tbody>\n",
       "    <tr>\n",
       "      <th>0</th>\n",
       "      <td>1</td>\n",
       "      <td>nyc, new york, usa</td>\n",
       "      <td>NaN</td>\n",
       "    </tr>\n",
       "    <tr>\n",
       "      <th>1</th>\n",
       "      <td>2</td>\n",
       "      <td>stockton, california, usa</td>\n",
       "      <td>18.0</td>\n",
       "    </tr>\n",
       "    <tr>\n",
       "      <th>2</th>\n",
       "      <td>3</td>\n",
       "      <td>moscow, yukon territory, russia</td>\n",
       "      <td>NaN</td>\n",
       "    </tr>\n",
       "    <tr>\n",
       "      <th>3</th>\n",
       "      <td>4</td>\n",
       "      <td>porto, v.n.gaia, portugal</td>\n",
       "      <td>17.0</td>\n",
       "    </tr>\n",
       "    <tr>\n",
       "      <th>4</th>\n",
       "      <td>5</td>\n",
       "      <td>farnborough, hants, united kingdom</td>\n",
       "      <td>NaN</td>\n",
       "    </tr>\n",
       "  </tbody>\n",
       "</table>\n",
       "</div>"
      ],
      "text/plain": [
       "   User-ID                            Location   Age\n",
       "0        1                  nyc, new york, usa   NaN\n",
       "1        2           stockton, california, usa  18.0\n",
       "2        3     moscow, yukon territory, russia   NaN\n",
       "3        4           porto, v.n.gaia, portugal  17.0\n",
       "4        5  farnborough, hants, united kingdom   NaN"
      ]
     },
     "execution_count": 23,
     "metadata": {
      "tags": []
     },
     "output_type": "execute_result"
    }
   ],
   "source": [
    "#read users.csv and print first five rows and shape\n"
   ]
  },
  {
   "cell_type": "markdown",
   "metadata": {
    "colab_type": "text",
    "id": "oXXSOy7gB496"
   },
   "source": [
    "# Q2. Descriptive Statistics (6 marks)\n",
    "\n",
    "1. Find out the basic statistics (mean, standard deviation, 25%, etc.) of book_ratings dataframe. (2 marks)\n",
    "2. Find the mode of book_ratings dataframe. (2 marks)\n",
    "3. Using size() and groupby(), print out the number of books published each year. (2 marks)"
   ]
  },
  {
   "cell_type": "code",
   "execution_count": null,
   "metadata": {
    "colab": {
     "base_uri": "https://localhost:8080/",
     "height": 297
    },
    "colab_type": "code",
    "id": "2tS6ezKkB4-D",
    "outputId": "af6fd637-1ffe-48c6-ecfd-d6da3c91ed32"
   },
   "outputs": [
    {
     "data": {
      "text/html": [
       "<div>\n",
       "<style scoped>\n",
       "    .dataframe tbody tr th:only-of-type {\n",
       "        vertical-align: middle;\n",
       "    }\n",
       "\n",
       "    .dataframe tbody tr th {\n",
       "        vertical-align: top;\n",
       "    }\n",
       "\n",
       "    .dataframe thead th {\n",
       "        text-align: right;\n",
       "    }\n",
       "</style>\n",
       "<table border=\"1\" class=\"dataframe\">\n",
       "  <thead>\n",
       "    <tr style=\"text-align: right;\">\n",
       "      <th></th>\n",
       "      <th>id</th>\n",
       "      <th>Book-Rating</th>\n",
       "    </tr>\n",
       "  </thead>\n",
       "  <tbody>\n",
       "    <tr>\n",
       "      <th>count</th>\n",
       "      <td>100000.000000</td>\n",
       "      <td>100000.000000</td>\n",
       "    </tr>\n",
       "    <tr>\n",
       "      <th>mean</th>\n",
       "      <td>37379.271860</td>\n",
       "      <td>3.189380</td>\n",
       "    </tr>\n",
       "    <tr>\n",
       "      <th>std</th>\n",
       "      <td>78446.883125</td>\n",
       "      <td>3.905262</td>\n",
       "    </tr>\n",
       "    <tr>\n",
       "      <th>min</th>\n",
       "      <td>2.000000</td>\n",
       "      <td>0.000000</td>\n",
       "    </tr>\n",
       "    <tr>\n",
       "      <th>25%</th>\n",
       "      <td>8245.000000</td>\n",
       "      <td>0.000000</td>\n",
       "    </tr>\n",
       "    <tr>\n",
       "      <th>50%</th>\n",
       "      <td>11963.500000</td>\n",
       "      <td>0.000000</td>\n",
       "    </tr>\n",
       "    <tr>\n",
       "      <th>75%</th>\n",
       "      <td>17926.000000</td>\n",
       "      <td>7.000000</td>\n",
       "    </tr>\n",
       "    <tr>\n",
       "      <th>max</th>\n",
       "      <td>278854.000000</td>\n",
       "      <td>10.000000</td>\n",
       "    </tr>\n",
       "  </tbody>\n",
       "</table>\n",
       "</div>"
      ],
      "text/plain": [
       "                  id    Book-Rating\n",
       "count  100000.000000  100000.000000\n",
       "mean    37379.271860       3.189380\n",
       "std     78446.883125       3.905262\n",
       "min         2.000000       0.000000\n",
       "25%      8245.000000       0.000000\n",
       "50%     11963.500000       0.000000\n",
       "75%     17926.000000       7.000000\n",
       "max    278854.000000      10.000000"
      ]
     },
     "execution_count": 85,
     "metadata": {
      "tags": []
     },
     "output_type": "execute_result"
    }
   ],
   "source": [
    "# Find out the basic statistics (mean, standard deviation, 25%, etc.) of book_ratings dataframe.\n"
   ]
  },
  {
   "cell_type": "code",
   "execution_count": null,
   "metadata": {
    "colab": {
     "base_uri": "https://localhost:8080/",
     "height": 51
    },
    "colab_type": "code",
    "id": "Ab9BIt4fB4-V",
    "outputId": "8b53c13e-254b-4c49-c211-24568beeddd9"
   },
   "outputs": [
    {
     "data": {
      "text/plain": [
       "0    0\n",
       "dtype: int64"
      ]
     },
     "execution_count": 86,
     "metadata": {
      "tags": []
     },
     "output_type": "execute_result"
    }
   ],
   "source": [
    "# Find the mode of book_ratings dataframe.\n"
   ]
  },
  {
   "cell_type": "code",
   "execution_count": null,
   "metadata": {
    "colab": {},
    "colab_type": "code",
    "id": "YkUlf6KRwgWZ",
    "outputId": "03f68bad-0ab9-4c69-9dbe-b4714cc1a01e"
   },
   "outputs": [
    {
     "data": {
      "text/plain": [
       "year-of-publication\n",
       "0       1825\n",
       "1902       1\n",
       "1904       1\n",
       "1910       1\n",
       "1911       3\n",
       "1920      15\n",
       "1923       2\n",
       "1924       1\n",
       "1925       1\n",
       "1926       1\n",
       "1928       1\n",
       "1929       2\n",
       "1930       2\n",
       "1931       1\n",
       "1932       1\n",
       "1934       1\n",
       "1936       2\n",
       "1937       3\n",
       "1938       3\n",
       "1939       4\n",
       "1940      13\n",
       "1941       2\n",
       "1942       6\n",
       "1943       2\n",
       "1945       2\n",
       "1946       3\n",
       "1947       1\n",
       "1948       4\n",
       "1949       4\n",
       "1950      10\n",
       "        ... \n",
       "1979     642\n",
       "1980     793\n",
       "1981    1045\n",
       "1982    1393\n",
       "1983    1522\n",
       "1984    1689\n",
       "1985    1724\n",
       "1986    1899\n",
       "1987    2187\n",
       "1988    2464\n",
       "1989    2705\n",
       "1990    3043\n",
       "1991    3411\n",
       "1992    3558\n",
       "1993    3768\n",
       "1994    4309\n",
       "1995    5196\n",
       "1996    5416\n",
       "1997    5775\n",
       "1998    6088\n",
       "1999    6737\n",
       "2000    6841\n",
       "2001    7073\n",
       "2002    7164\n",
       "2003    5954\n",
       "2004    2033\n",
       "2005       8\n",
       "2011       1\n",
       "2030       3\n",
       "2050       2\n",
       "Length: 88, dtype: int64"
      ]
     },
     "execution_count": 76,
     "metadata": {
      "tags": []
     },
     "output_type": "execute_result"
    }
   ],
   "source": [
    "# Using size() and groupby(), print out the number of books published each year. \n"
   ]
  },
  {
   "cell_type": "markdown",
   "metadata": {
    "colab_type": "text",
    "id": "re5I4uPKB4-7"
   },
   "source": [
    "# Q3. Data Cleaning: Handling Missing Data (4 marks)"
   ]
  },
  {
   "cell_type": "markdown",
   "metadata": {
    "colab_type": "text",
    "id": "aXG9aKivwgWx"
   },
   "source": [
    "1. Find out if there is any null values in book_ratings, users and books datasets. (3 marks)\n",
    "2. Delete any rows with null Values. (1 mark)"
   ]
  },
  {
   "cell_type": "code",
   "execution_count": null,
   "metadata": {
    "colab": {
     "base_uri": "https://localhost:8080/",
     "height": 34
    },
    "colab_type": "code",
    "id": "YSFF2K83B4_A",
    "outputId": "a2ab1fc1-6067-4117-f833-73ea42682c74"
   },
   "outputs": [
    {
     "data": {
      "text/plain": [
       "id             False\n",
       "isbn           False\n",
       "Book-Rating    False\n",
       "dtype: bool"
      ]
     },
     "execution_count": 26,
     "metadata": {
      "tags": []
     },
     "output_type": "execute_result"
    }
   ],
   "source": [
    "# Find out if there is any null values in book_ratings\n"
   ]
  },
  {
   "cell_type": "code",
   "execution_count": null,
   "metadata": {
    "colab": {
     "base_uri": "https://localhost:8080/",
     "height": 85
    },
    "colab_type": "code",
    "id": "UEVKunWnB4_U",
    "outputId": "524ddd3c-f1cc-466d-93d7-9db5d250b306"
   },
   "outputs": [
    {
     "data": {
      "text/plain": [
       "User-ID     False\n",
       "Location    False\n",
       "Age          True\n",
       "dtype: bool"
      ]
     },
     "execution_count": 27,
     "metadata": {
      "tags": []
     },
     "output_type": "execute_result"
    }
   ],
   "source": [
    "# Find out if there is any null values in users\n"
   ]
  },
  {
   "cell_type": "code",
   "execution_count": null,
   "metadata": {
    "colab": {
     "base_uri": "https://localhost:8080/",
     "height": 34
    },
    "colab_type": "code",
    "id": "d3yCX8IIB4_n",
    "outputId": "fde30d22-c2f4-41ae-a29d-d2a9507e6b50"
   },
   "outputs": [
    {
     "data": {
      "text/plain": [
       "isbn                   False\n",
       "book-title             False\n",
       "book-author            False\n",
       "year-of-publication    False\n",
       "publisher              False\n",
       "dtype: bool"
      ]
     },
     "execution_count": 29,
     "metadata": {
      "tags": []
     },
     "output_type": "execute_result"
    }
   ],
   "source": [
    "# Find out if there is any null values in books\n"
   ]
  },
  {
   "cell_type": "code",
   "execution_count": null,
   "metadata": {
    "colab": {
     "base_uri": "https://localhost:8080/",
     "height": 85
    },
    "colab_type": "code",
    "id": "DQr-pcSQB4_1",
    "outputId": "46c90097-fbb7-4e44-d59d-8d0a0f82fc4c"
   },
   "outputs": [
    {
     "data": {
      "text/plain": [
       "(60261, 3)"
      ]
     },
     "execution_count": 30,
     "metadata": {
      "tags": []
     },
     "output_type": "execute_result"
    }
   ],
   "source": [
    "# Drop null values from dataset with null values\n"
   ]
  },
  {
   "cell_type": "markdown",
   "metadata": {
    "colab_type": "text",
    "id": "ie6F8biqB5Bo"
   },
   "source": [
    "# Q4. Data Visualization (4 marks)"
   ]
  },
  {
   "cell_type": "markdown",
   "metadata": {
    "colab_type": "text",
    "id": "zlhjXVKOwgZe"
   },
   "source": [
    "1. Plot a histogram of 'Book-Rating' column in book_ratings dataframe. (2 marks)\n",
    "2. Plot a boxplot of 'Book-Rating' column in book_ratings dataframe. (2 marks)"
   ]
  },
  {
   "cell_type": "code",
   "execution_count": null,
   "metadata": {
    "colab": {
     "base_uri": "https://localhost:8080/",
     "height": 640
    },
    "colab_type": "code",
    "id": "xR941tD-B5Bs",
    "outputId": "d700526b-0b47-44d1-e1e2-8fbcaf8ecbd5"
   },
   "outputs": [
    {
     "data": {
      "text/plain": [
       "array([[<matplotlib.axes._subplots.AxesSubplot object at 0x0000026F8BFD64E0>]],\n",
       "      dtype=object)"
      ]
     },
     "execution_count": 31,
     "metadata": {
      "tags": []
     },
     "output_type": "execute_result"
    },
    {
     "data": {
      "image/png": "[encoded data removed]",
      "text/plain": [
       "<Figure size 360x360 with 1 Axes>"
      ]
     },
     "metadata": {
      "needs_background": "light",
      "tags": []
     },
     "output_type": "display_data"
    }
   ],
   "source": [
    "# Plot a histogram of 'Book-Rating' column in book_ratings dataframe.\n"
   ]
  },
  {
   "cell_type": "code",
   "execution_count": null,
   "metadata": {
    "colab": {
     "base_uri": "https://localhost:8080/",
     "height": 1152
    },
    "colab_type": "code",
    "id": "5FdJSqTrB5By",
    "outputId": "ad5e5df0-8047-49db-e571-a632372936d4"
   },
   "outputs": [
    {
     "data": {
      "text/plain": [
       "<matplotlib.axes._subplots.AxesSubplot at 0x26f8bf797b8>"
      ]
     },
     "execution_count": 32,
     "metadata": {
      "tags": []
     },
     "output_type": "execute_result"
    },
    {
     "data": {
      "image/png": "[encoded data removed]",
      "text/plain": [
       "<Figure size 432x288 with 1 Axes>"
      ]
     },
     "metadata": {
      "needs_background": "light",
      "tags": []
     },
     "output_type": "display_data"
    }
   ],
   "source": [
    "#Plot a boxplot of 'Book-Rating' column in book_ratings dataframe.\n"
   ]
  },
  {
   "cell_type": "markdown",
   "metadata": {
    "colab_type": "text",
    "id": "GiSzg9xBB5Co"
   },
   "source": [
    "# Q5. Merge Dataframes (3 marks)"
   ]
  },
  {
   "cell_type": "markdown",
   "metadata": {
    "colab_type": "text",
    "id": "S_oBrABswgZ_"
   },
   "source": [
    "Merge the datasets of book ratings and books using the common field and save it to a new dataframe called 'books_and_ratings'. Print the first 5 rows of 'books_and_ratings'. (3 marks)"
   ]
  },
  {
   "cell_type": "code",
   "execution_count": null,
   "metadata": {
    "colab": {
     "base_uri": "https://localhost:8080/",
     "height": 221
    },
    "colab_type": "code",
    "id": "PwVusAJqB5Cq",
    "outputId": "17e213f7-da85-47a7-b5ef-7db99d13571e"
   },
   "outputs": [
    {
     "name": "stdout",
     "output_type": "stream",
     "text": [
      "(69930, 7)\n"
     ]
    },
    {
     "data": {
      "text/html": [
       "<div>\n",
       "<style scoped>\n",
       "    .dataframe tbody tr th:only-of-type {\n",
       "        vertical-align: middle;\n",
       "    }\n",
       "\n",
       "    .dataframe tbody tr th {\n",
       "        vertical-align: top;\n",
       "    }\n",
       "\n",
       "    .dataframe thead th {\n",
       "        text-align: right;\n",
       "    }\n",
       "</style>\n",
       "<table border=\"1\" class=\"dataframe\">\n",
       "  <thead>\n",
       "    <tr style=\"text-align: right;\">\n",
       "      <th></th>\n",
       "      <th>id</th>\n",
       "      <th>isbn</th>\n",
       "      <th>Book-Rating</th>\n",
       "      <th>book-title</th>\n",
       "      <th>book-author</th>\n",
       "      <th>year-of-publication</th>\n",
       "      <th>publisher</th>\n",
       "    </tr>\n",
       "  </thead>\n",
       "  <tbody>\n",
       "    <tr>\n",
       "      <th>0</th>\n",
       "      <td>276727</td>\n",
       "      <td>0446520802</td>\n",
       "      <td>0</td>\n",
       "      <td>the notebook</td>\n",
       "      <td>nicholas sparks</td>\n",
       "      <td>1996</td>\n",
       "      <td>warner books</td>\n",
       "    </tr>\n",
       "    <tr>\n",
       "      <th>1</th>\n",
       "      <td>278418</td>\n",
       "      <td>0446520802</td>\n",
       "      <td>0</td>\n",
       "      <td>the notebook</td>\n",
       "      <td>nicholas sparks</td>\n",
       "      <td>1996</td>\n",
       "      <td>warner books</td>\n",
       "    </tr>\n",
       "    <tr>\n",
       "      <th>2</th>\n",
       "      <td>638</td>\n",
       "      <td>0446520802</td>\n",
       "      <td>0</td>\n",
       "      <td>the notebook</td>\n",
       "      <td>nicholas sparks</td>\n",
       "      <td>1996</td>\n",
       "      <td>warner books</td>\n",
       "    </tr>\n",
       "    <tr>\n",
       "      <th>3</th>\n",
       "      <td>3363</td>\n",
       "      <td>0446520802</td>\n",
       "      <td>0</td>\n",
       "      <td>the notebook</td>\n",
       "      <td>nicholas sparks</td>\n",
       "      <td>1996</td>\n",
       "      <td>warner books</td>\n",
       "    </tr>\n",
       "    <tr>\n",
       "      <th>4</th>\n",
       "      <td>7158</td>\n",
       "      <td>0446520802</td>\n",
       "      <td>10</td>\n",
       "      <td>the notebook</td>\n",
       "      <td>nicholas sparks</td>\n",
       "      <td>1996</td>\n",
       "      <td>warner books</td>\n",
       "    </tr>\n",
       "  </tbody>\n",
       "</table>\n",
       "</div>"
      ],
      "text/plain": [
       "       id        isbn  Book-Rating    book-title      book-author  \\\n",
       "0  276727  0446520802            0  the notebook  nicholas sparks   \n",
       "1  278418  0446520802            0  the notebook  nicholas sparks   \n",
       "2     638  0446520802            0  the notebook  nicholas sparks   \n",
       "3    3363  0446520802            0  the notebook  nicholas sparks   \n",
       "4    7158  0446520802           10  the notebook  nicholas sparks   \n",
       "\n",
       "   year-of-publication     publisher  \n",
       "0                 1996  warner books  \n",
       "1                 1996  warner books  \n",
       "2                 1996  warner books  \n",
       "3                 1996  warner books  \n",
       "4                 1996  warner books  "
      ]
     },
     "execution_count": 80,
     "metadata": {
      "tags": []
     },
     "output_type": "execute_result"
    }
   ],
   "source": []
  },
  {
   "cell_type": "markdown",
   "metadata": {
    "colab_type": "text",
    "id": "KV13t53XB5B3"
   },
   "source": [
    "# Q6. Filters for Selecting Rows (7 marks)\n",
    "1. Create a filter for values more than 0 in the column 'Book-Rating' in the books_and_rating dataframe. (1 mark)\n",
    "2. Create a filter for the publisher \"oxford university press\" in the books_and_rating dataframe. (2 marks)\n",
    "3. Combine these two filters to filter the books_and_ratings dataframe and print out the last 10 rows. (2 marks)\n",
    "4. Create a new column in the books_and_rating dataframe, containing True for books whose titles has the open bracket \"(\" in them. Name this column \"titleHasOpenBracket\". Print out the last 15 rows of the modified dataframe. (2 marks)"
   ]
  },
  {
   "cell_type": "code",
   "execution_count": null,
   "metadata": {
    "colab": {
     "base_uri": "https://localhost:8080/",
     "height": 204
    },
    "colab_type": "code",
    "id": "1fh9yZYzB5B3",
    "outputId": "b2fc554f-92a6-4359-897b-995755b56475"
   },
   "outputs": [
    {
     "data": {
      "text/html": [
       "<div>\n",
       "<style scoped>\n",
       "    .dataframe tbody tr th:only-of-type {\n",
       "        vertical-align: middle;\n",
       "    }\n",
       "\n",
       "    .dataframe tbody tr th {\n",
       "        vertical-align: top;\n",
       "    }\n",
       "\n",
       "    .dataframe thead th {\n",
       "        text-align: right;\n",
       "    }\n",
       "</style>\n",
       "<table border=\"1\" class=\"dataframe\">\n",
       "  <thead>\n",
       "    <tr style=\"text-align: right;\">\n",
       "      <th></th>\n",
       "      <th>id</th>\n",
       "      <th>isbn</th>\n",
       "      <th>Book-Rating</th>\n",
       "      <th>book-title</th>\n",
       "      <th>book-author</th>\n",
       "      <th>year-of-publication</th>\n",
       "      <th>publisher</th>\n",
       "    </tr>\n",
       "  </thead>\n",
       "  <tbody>\n",
       "    <tr>\n",
       "      <th>4</th>\n",
       "      <td>7158</td>\n",
       "      <td>0446520802</td>\n",
       "      <td>10</td>\n",
       "      <td>the notebook</td>\n",
       "      <td>nicholas sparks</td>\n",
       "      <td>1996</td>\n",
       "      <td>warner books</td>\n",
       "    </tr>\n",
       "    <tr>\n",
       "      <th>5</th>\n",
       "      <td>8253</td>\n",
       "      <td>0446520802</td>\n",
       "      <td>10</td>\n",
       "      <td>the notebook</td>\n",
       "      <td>nicholas sparks</td>\n",
       "      <td>1996</td>\n",
       "      <td>warner books</td>\n",
       "    </tr>\n",
       "    <tr>\n",
       "      <th>7</th>\n",
       "      <td>11676</td>\n",
       "      <td>0446520802</td>\n",
       "      <td>10</td>\n",
       "      <td>the notebook</td>\n",
       "      <td>nicholas sparks</td>\n",
       "      <td>1996</td>\n",
       "      <td>warner books</td>\n",
       "    </tr>\n",
       "    <tr>\n",
       "      <th>8</th>\n",
       "      <td>12589</td>\n",
       "      <td>0446520802</td>\n",
       "      <td>9</td>\n",
       "      <td>the notebook</td>\n",
       "      <td>nicholas sparks</td>\n",
       "      <td>1996</td>\n",
       "      <td>warner books</td>\n",
       "    </tr>\n",
       "    <tr>\n",
       "      <th>9</th>\n",
       "      <td>13279</td>\n",
       "      <td>0446520802</td>\n",
       "      <td>10</td>\n",
       "      <td>the notebook</td>\n",
       "      <td>nicholas sparks</td>\n",
       "      <td>1996</td>\n",
       "      <td>warner books</td>\n",
       "    </tr>\n",
       "  </tbody>\n",
       "</table>\n",
       "</div>"
      ],
      "text/plain": [
       "      id        isbn  Book-Rating    book-title      book-author  \\\n",
       "4   7158  0446520802           10  the notebook  nicholas sparks   \n",
       "5   8253  0446520802           10  the notebook  nicholas sparks   \n",
       "7  11676  0446520802           10  the notebook  nicholas sparks   \n",
       "8  12589  0446520802            9  the notebook  nicholas sparks   \n",
       "9  13279  0446520802           10  the notebook  nicholas sparks   \n",
       "\n",
       "   year-of-publication     publisher  \n",
       "4                 1996  warner books  \n",
       "5                 1996  warner books  \n",
       "7                 1996  warner books  \n",
       "8                 1996  warner books  \n",
       "9                 1996  warner books  "
      ]
     },
     "execution_count": 35,
     "metadata": {
      "tags": []
     },
     "output_type": "execute_result"
    }
   ],
   "source": [
    "# Create a filter for values more than 0 in the column 'Book-Rating' in the books_and_rating dataframe. \n"
   ]
  },
  {
   "cell_type": "code",
   "execution_count": null,
   "metadata": {
    "colab": {},
    "colab_type": "code",
    "id": "nSCt-MHSwgak",
    "outputId": "dbcfb75a-ec63-44bc-c253-29778c8cc81d"
   },
   "outputs": [
    {
     "data": {
      "text/html": [
       "<div>\n",
       "<style scoped>\n",
       "    .dataframe tbody tr th:only-of-type {\n",
       "        vertical-align: middle;\n",
       "    }\n",
       "\n",
       "    .dataframe tbody tr th {\n",
       "        vertical-align: top;\n",
       "    }\n",
       "\n",
       "    .dataframe thead th {\n",
       "        text-align: right;\n",
       "    }\n",
       "</style>\n",
       "<table border=\"1\" class=\"dataframe\">\n",
       "  <thead>\n",
       "    <tr style=\"text-align: right;\">\n",
       "      <th></th>\n",
       "      <th>id</th>\n",
       "      <th>isbn</th>\n",
       "      <th>Book-Rating</th>\n",
       "      <th>book-title</th>\n",
       "      <th>book-author</th>\n",
       "      <th>year-of-publication</th>\n",
       "      <th>publisher</th>\n",
       "    </tr>\n",
       "  </thead>\n",
       "  <tbody>\n",
       "    <tr>\n",
       "      <th>3833</th>\n",
       "      <td>277427</td>\n",
       "      <td>0195009428</td>\n",
       "      <td>0</td>\n",
       "      <td>nada (spanish language edition)</td>\n",
       "      <td>c. laforet</td>\n",
       "      <td>1958</td>\n",
       "      <td>oxford university press</td>\n",
       "    </tr>\n",
       "    <tr>\n",
       "      <th>6060</th>\n",
       "      <td>277509</td>\n",
       "      <td>0192823523</td>\n",
       "      <td>8</td>\n",
       "      <td>the interpretation of dreams (oxford world's c...</td>\n",
       "      <td>sigmund freud</td>\n",
       "      <td>2000</td>\n",
       "      <td>oxford university press</td>\n",
       "    </tr>\n",
       "    <tr>\n",
       "      <th>6061</th>\n",
       "      <td>7958</td>\n",
       "      <td>0192823523</td>\n",
       "      <td>0</td>\n",
       "      <td>the interpretation of dreams (oxford world's c...</td>\n",
       "      <td>sigmund freud</td>\n",
       "      <td>2000</td>\n",
       "      <td>oxford university press</td>\n",
       "    </tr>\n",
       "    <tr>\n",
       "      <th>6062</th>\n",
       "      <td>11676</td>\n",
       "      <td>0192823523</td>\n",
       "      <td>6</td>\n",
       "      <td>the interpretation of dreams (oxford world's c...</td>\n",
       "      <td>sigmund freud</td>\n",
       "      <td>2000</td>\n",
       "      <td>oxford university press</td>\n",
       "    </tr>\n",
       "    <tr>\n",
       "      <th>11124</th>\n",
       "      <td>278356</td>\n",
       "      <td>0192828630</td>\n",
       "      <td>0</td>\n",
       "      <td>the misfortunes of virtue, and other early tal...</td>\n",
       "      <td>marquis de sade</td>\n",
       "      <td>1992</td>\n",
       "      <td>oxford university press</td>\n",
       "    </tr>\n",
       "  </tbody>\n",
       "</table>\n",
       "</div>"
      ],
      "text/plain": [
       "           id        isbn  Book-Rating  \\\n",
       "3833   277427  0195009428            0   \n",
       "6060   277509  0192823523            8   \n",
       "6061     7958  0192823523            0   \n",
       "6062    11676  0192823523            6   \n",
       "11124  278356  0192828630            0   \n",
       "\n",
       "                                              book-title      book-author  \\\n",
       "3833                     nada (spanish language edition)       c. laforet   \n",
       "6060   the interpretation of dreams (oxford world's c...    sigmund freud   \n",
       "6061   the interpretation of dreams (oxford world's c...    sigmund freud   \n",
       "6062   the interpretation of dreams (oxford world's c...    sigmund freud   \n",
       "11124  the misfortunes of virtue, and other early tal...  marquis de sade   \n",
       "\n",
       "       year-of-publication                publisher  \n",
       "3833                  1958  oxford university press  \n",
       "6060                  2000  oxford university press  \n",
       "6061                  2000  oxford university press  \n",
       "6062                  2000  oxford university press  \n",
       "11124                 1992  oxford university press  "
      ]
     },
     "execution_count": 36,
     "metadata": {
      "tags": []
     },
     "output_type": "execute_result"
    }
   ],
   "source": [
    "# Create a filter for the publisher \"oxford university press\" in the books_and_rating dataframe.\n"
   ]
  },
  {
   "cell_type": "code",
   "execution_count": null,
   "metadata": {
    "colab": {},
    "colab_type": "code",
    "id": "bhKoHkIHwgas",
    "outputId": "2e30961b-de6b-43a9-8f8e-f18f2e3327fc"
   },
   "outputs": [
    {
     "data": {
      "text/html": [
       "<div>\n",
       "<style scoped>\n",
       "    .dataframe tbody tr th:only-of-type {\n",
       "        vertical-align: middle;\n",
       "    }\n",
       "\n",
       "    .dataframe tbody tr th {\n",
       "        vertical-align: top;\n",
       "    }\n",
       "\n",
       "    .dataframe thead th {\n",
       "        text-align: right;\n",
       "    }\n",
       "</style>\n",
       "<table border=\"1\" class=\"dataframe\">\n",
       "  <thead>\n",
       "    <tr style=\"text-align: right;\">\n",
       "      <th></th>\n",
       "      <th>id</th>\n",
       "      <th>isbn</th>\n",
       "      <th>Book-Rating</th>\n",
       "      <th>book-title</th>\n",
       "      <th>book-author</th>\n",
       "      <th>year-of-publication</th>\n",
       "      <th>publisher</th>\n",
       "    </tr>\n",
       "  </thead>\n",
       "  <tbody>\n",
       "    <tr>\n",
       "      <th>64718</th>\n",
       "      <td>17799</td>\n",
       "      <td>0192840614</td>\n",
       "      <td>7</td>\n",
       "      <td>the custom of the country (oxford world's clas...</td>\n",
       "      <td>edith wharton</td>\n",
       "      <td>2001</td>\n",
       "      <td>oxford university press</td>\n",
       "    </tr>\n",
       "    <tr>\n",
       "      <th>65084</th>\n",
       "      <td>18067</td>\n",
       "      <td>0192834118</td>\n",
       "      <td>5</td>\n",
       "      <td>the idiot (oxford world's classics)</td>\n",
       "      <td>fyodor dostoyevsky</td>\n",
       "      <td>1998</td>\n",
       "      <td>oxford university press</td>\n",
       "    </tr>\n",
       "    <tr>\n",
       "      <th>65352</th>\n",
       "      <td>18254</td>\n",
       "      <td>0192824325</td>\n",
       "      <td>7</td>\n",
       "      <td>emma (the world's classics)</td>\n",
       "      <td>jane austen</td>\n",
       "      <td>1995</td>\n",
       "      <td>oxford university press</td>\n",
       "    </tr>\n",
       "    <tr>\n",
       "      <th>65713</th>\n",
       "      <td>18671</td>\n",
       "      <td>0195066278</td>\n",
       "      <td>6</td>\n",
       "      <td>the unfinished journey american (sic) since wo...</td>\n",
       "      <td>william h. chafe</td>\n",
       "      <td>1990</td>\n",
       "      <td>oxford university press</td>\n",
       "    </tr>\n",
       "    <tr>\n",
       "      <th>67956</th>\n",
       "      <td>21011</td>\n",
       "      <td>0192839640</td>\n",
       "      <td>7</td>\n",
       "      <td>villette (oxford world's classics)</td>\n",
       "      <td>charlotte bronte</td>\n",
       "      <td>2001</td>\n",
       "      <td>oxford university press</td>\n",
       "    </tr>\n",
       "    <tr>\n",
       "      <th>68612</th>\n",
       "      <td>21392</td>\n",
       "      <td>0195126270</td>\n",
       "      <td>7</td>\n",
       "      <td>the devil's dictionary</td>\n",
       "      <td>ambrose bierce</td>\n",
       "      <td>1998</td>\n",
       "      <td>oxford university press</td>\n",
       "    </tr>\n",
       "    <tr>\n",
       "      <th>68711</th>\n",
       "      <td>21576</td>\n",
       "      <td>0195022459</td>\n",
       "      <td>6</td>\n",
       "      <td>this species of property slave life and cultur...</td>\n",
       "      <td>leslie howard owens</td>\n",
       "      <td>1976</td>\n",
       "      <td>oxford university press</td>\n",
       "    </tr>\n",
       "    <tr>\n",
       "      <th>68712</th>\n",
       "      <td>21576</td>\n",
       "      <td>0195208153</td>\n",
       "      <td>6</td>\n",
       "      <td>the great scientists</td>\n",
       "      <td>a. j. meadows</td>\n",
       "      <td>1993</td>\n",
       "      <td>oxford university press</td>\n",
       "    </tr>\n",
       "    <tr>\n",
       "      <th>68915</th>\n",
       "      <td>21692</td>\n",
       "      <td>0192834355</td>\n",
       "      <td>6</td>\n",
       "      <td>christmas books (oxford world's classics)</td>\n",
       "      <td>charles dickens</td>\n",
       "      <td>1998</td>\n",
       "      <td>oxford university press</td>\n",
       "    </tr>\n",
       "    <tr>\n",
       "      <th>69668</th>\n",
       "      <td>22981</td>\n",
       "      <td>0192836544</td>\n",
       "      <td>10</td>\n",
       "      <td>confessions of an english opium-eater and othe...</td>\n",
       "      <td>thomas de quincey</td>\n",
       "      <td>1998</td>\n",
       "      <td>oxford university press</td>\n",
       "    </tr>\n",
       "  </tbody>\n",
       "</table>\n",
       "</div>"
      ],
      "text/plain": [
       "          id        isbn  Book-Rating  \\\n",
       "64718  17799  0192840614            7   \n",
       "65084  18067  0192834118            5   \n",
       "65352  18254  0192824325            7   \n",
       "65713  18671  0195066278            6   \n",
       "67956  21011  0192839640            7   \n",
       "68612  21392  0195126270            7   \n",
       "68711  21576  0195022459            6   \n",
       "68712  21576  0195208153            6   \n",
       "68915  21692  0192834355            6   \n",
       "69668  22981  0192836544           10   \n",
       "\n",
       "                                              book-title          book-author  \\\n",
       "64718  the custom of the country (oxford world's clas...        edith wharton   \n",
       "65084                the idiot (oxford world's classics)   fyodor dostoyevsky   \n",
       "65352                        emma (the world's classics)          jane austen   \n",
       "65713  the unfinished journey american (sic) since wo...     william h. chafe   \n",
       "67956                 villette (oxford world's classics)     charlotte bronte   \n",
       "68612                             the devil's dictionary       ambrose bierce   \n",
       "68711  this species of property slave life and cultur...  leslie howard owens   \n",
       "68712                               the great scientists        a. j. meadows   \n",
       "68915          christmas books (oxford world's classics)      charles dickens   \n",
       "69668  confessions of an english opium-eater and othe...    thomas de quincey   \n",
       "\n",
       "       year-of-publication                publisher  \n",
       "64718                 2001  oxford university press  \n",
       "65084                 1998  oxford university press  \n",
       "65352                 1995  oxford university press  \n",
       "65713                 1990  oxford university press  \n",
       "67956                 2001  oxford university press  \n",
       "68612                 1998  oxford university press  \n",
       "68711                 1976  oxford university press  \n",
       "68712                 1993  oxford university press  \n",
       "68915                 1998  oxford university press  \n",
       "69668                 1998  oxford university press  "
      ]
     },
     "execution_count": 37,
     "metadata": {
      "tags": []
     },
     "output_type": "execute_result"
    }
   ],
   "source": [
    "# Combine these two filters to filter the books_and_ratings dataframe and print out the last 10 rows.\n",
    "\n"
   ]
  },
  {
   "cell_type": "code",
   "execution_count": null,
   "metadata": {
    "colab": {},
    "colab_type": "code",
    "id": "yuuf1fP5wgbA",
    "outputId": "5b8422d9-2239-4e2a-8d9f-70cd2636a77f"
   },
   "outputs": [
    {
     "data": {
      "text/html": [
       "<div>\n",
       "<style scoped>\n",
       "    .dataframe tbody tr th:only-of-type {\n",
       "        vertical-align: middle;\n",
       "    }\n",
       "\n",
       "    .dataframe tbody tr th {\n",
       "        vertical-align: top;\n",
       "    }\n",
       "\n",
       "    .dataframe thead th {\n",
       "        text-align: right;\n",
       "    }\n",
       "</style>\n",
       "<table border=\"1\" class=\"dataframe\">\n",
       "  <thead>\n",
       "    <tr style=\"text-align: right;\">\n",
       "      <th></th>\n",
       "      <th>id</th>\n",
       "      <th>isbn</th>\n",
       "      <th>Book-Rating</th>\n",
       "      <th>book-title</th>\n",
       "      <th>book-author</th>\n",
       "      <th>year-of-publication</th>\n",
       "      <th>publisher</th>\n",
       "      <th>titleHasOpenBracket</th>\n",
       "    </tr>\n",
       "  </thead>\n",
       "  <tbody>\n",
       "    <tr>\n",
       "      <th>69915</th>\n",
       "      <td>23288</td>\n",
       "      <td>0721405908</td>\n",
       "      <td>10</td>\n",
       "      <td>tom thumb (well loved tales)</td>\n",
       "      <td>ladybird series</td>\n",
       "      <td>1982</td>\n",
       "      <td>ladybird books</td>\n",
       "      <td>True</td>\n",
       "    </tr>\n",
       "    <tr>\n",
       "      <th>69916</th>\n",
       "      <td>23288</td>\n",
       "      <td>0721406327</td>\n",
       "      <td>10</td>\n",
       "      <td>the secret garden (ladybirds children's classics)</td>\n",
       "      <td>frances hodgson burnett</td>\n",
       "      <td>1980</td>\n",
       "      <td>ladybird books ltd</td>\n",
       "      <td>True</td>\n",
       "    </tr>\n",
       "    <tr>\n",
       "      <th>69917</th>\n",
       "      <td>23288</td>\n",
       "      <td>0721406483</td>\n",
       "      <td>10</td>\n",
       "      <td>snow white and the seven dwarfs (well loved ta...</td>\n",
       "      <td>ladybird series</td>\n",
       "      <td>1982</td>\n",
       "      <td>ladybird books ltd</td>\n",
       "      <td>True</td>\n",
       "    </tr>\n",
       "    <tr>\n",
       "      <th>69918</th>\n",
       "      <td>23288</td>\n",
       "      <td>0721407307</td>\n",
       "      <td>9</td>\n",
       "      <td>hansel and gretel (well loved tales)</td>\n",
       "      <td>ladybird series</td>\n",
       "      <td>1982</td>\n",
       "      <td>penguin u s a</td>\n",
       "      <td>True</td>\n",
       "    </tr>\n",
       "    <tr>\n",
       "      <th>69919</th>\n",
       "      <td>23288</td>\n",
       "      <td>0721407633</td>\n",
       "      <td>10</td>\n",
       "      <td>the snow queen (well loved tales)</td>\n",
       "      <td>ladybird series</td>\n",
       "      <td>1982</td>\n",
       "      <td>ladybird books ltd</td>\n",
       "      <td>True</td>\n",
       "    </tr>\n",
       "    <tr>\n",
       "      <th>69920</th>\n",
       "      <td>23288</td>\n",
       "      <td>0721408230</td>\n",
       "      <td>10</td>\n",
       "      <td>oliver twist (ladybird children's classics)</td>\n",
       "      <td>gwen tourret</td>\n",
       "      <td>1984</td>\n",
       "      <td>ladybird books ltd</td>\n",
       "      <td>True</td>\n",
       "    </tr>\n",
       "    <tr>\n",
       "      <th>69921</th>\n",
       "      <td>23288</td>\n",
       "      <td>0721408281</td>\n",
       "      <td>0</td>\n",
       "      <td>wizard of oz (well loved tales level 3)</td>\n",
       "      <td>l. frank baum</td>\n",
       "      <td>1940</td>\n",
       "      <td>penguin u s a</td>\n",
       "      <td>True</td>\n",
       "    </tr>\n",
       "    <tr>\n",
       "      <th>69922</th>\n",
       "      <td>23288</td>\n",
       "      <td>0721411134</td>\n",
       "      <td>10</td>\n",
       "      <td>little red riding hood (well-loved tales serie...</td>\n",
       "      <td>ver southgate</td>\n",
       "      <td>1988</td>\n",
       "      <td>penguin u s a</td>\n",
       "      <td>True</td>\n",
       "    </tr>\n",
       "    <tr>\n",
       "      <th>69923</th>\n",
       "      <td>23288</td>\n",
       "      <td>0743419049</td>\n",
       "      <td>0</td>\n",
       "      <td>candyland</td>\n",
       "      <td>ed mcbain</td>\n",
       "      <td>2001</td>\n",
       "      <td>pocket</td>\n",
       "      <td>False</td>\n",
       "    </tr>\n",
       "    <tr>\n",
       "      <th>69924</th>\n",
       "      <td>23288</td>\n",
       "      <td>0749712589</td>\n",
       "      <td>0</td>\n",
       "      <td>mother's day</td>\n",
       "      <td>miriam hodgson</td>\n",
       "      <td>1993</td>\n",
       "      <td>egmont childrens books</td>\n",
       "      <td>False</td>\n",
       "    </tr>\n",
       "    <tr>\n",
       "      <th>69925</th>\n",
       "      <td>23288</td>\n",
       "      <td>0766601579</td>\n",
       "      <td>0</td>\n",
       "      <td>the lucky glasses (a happy ending book)</td>\n",
       "      <td>tony hutchings</td>\n",
       "      <td>1997</td>\n",
       "      <td>modern publishing</td>\n",
       "      <td>True</td>\n",
       "    </tr>\n",
       "    <tr>\n",
       "      <th>69926</th>\n",
       "      <td>23288</td>\n",
       "      <td>0771056257</td>\n",
       "      <td>0</td>\n",
       "      <td>mystery at lake placid (#1) (the screech owls ...</td>\n",
       "      <td>roy macgregor</td>\n",
       "      <td>1995</td>\n",
       "      <td>screech owls</td>\n",
       "      <td>True</td>\n",
       "    </tr>\n",
       "    <tr>\n",
       "      <th>69927</th>\n",
       "      <td>23288</td>\n",
       "      <td>0802448151</td>\n",
       "      <td>0</td>\n",
       "      <td>the thousand dollar fish (sugar creek gang)</td>\n",
       "      <td>paul hutchins</td>\n",
       "      <td>1966</td>\n",
       "      <td>moody pr</td>\n",
       "      <td>True</td>\n",
       "    </tr>\n",
       "    <tr>\n",
       "      <th>69928</th>\n",
       "      <td>23288</td>\n",
       "      <td>0802448267</td>\n",
       "      <td>0</td>\n",
       "      <td>the watermelon mystery (sugar creek gang)</td>\n",
       "      <td>paul hutchins</td>\n",
       "      <td>1971</td>\n",
       "      <td>moody pr</td>\n",
       "      <td>True</td>\n",
       "    </tr>\n",
       "    <tr>\n",
       "      <th>69929</th>\n",
       "      <td>23288</td>\n",
       "      <td>0802457010</td>\n",
       "      <td>0</td>\n",
       "      <td>the mystery of the missing bracelets</td>\n",
       "      <td>dorothy mckay martin</td>\n",
       "      <td>1980</td>\n",
       "      <td>moody press</td>\n",
       "      <td>False</td>\n",
       "    </tr>\n",
       "  </tbody>\n",
       "</table>\n",
       "</div>"
      ],
      "text/plain": [
       "          id        isbn  Book-Rating  \\\n",
       "69915  23288  0721405908           10   \n",
       "69916  23288  0721406327           10   \n",
       "69917  23288  0721406483           10   \n",
       "69918  23288  0721407307            9   \n",
       "69919  23288  0721407633           10   \n",
       "69920  23288  0721408230           10   \n",
       "69921  23288  0721408281            0   \n",
       "69922  23288  0721411134           10   \n",
       "69923  23288  0743419049            0   \n",
       "69924  23288  0749712589            0   \n",
       "69925  23288  0766601579            0   \n",
       "69926  23288  0771056257            0   \n",
       "69927  23288  0802448151            0   \n",
       "69928  23288  0802448267            0   \n",
       "69929  23288  0802457010            0   \n",
       "\n",
       "                                              book-title  \\\n",
       "69915                       tom thumb (well loved tales)   \n",
       "69916  the secret garden (ladybirds children's classics)   \n",
       "69917  snow white and the seven dwarfs (well loved ta...   \n",
       "69918               hansel and gretel (well loved tales)   \n",
       "69919                  the snow queen (well loved tales)   \n",
       "69920        oliver twist (ladybird children's classics)   \n",
       "69921            wizard of oz (well loved tales level 3)   \n",
       "69922  little red riding hood (well-loved tales serie...   \n",
       "69923                                          candyland   \n",
       "69924                                       mother's day   \n",
       "69925            the lucky glasses (a happy ending book)   \n",
       "69926  mystery at lake placid (#1) (the screech owls ...   \n",
       "69927        the thousand dollar fish (sugar creek gang)   \n",
       "69928          the watermelon mystery (sugar creek gang)   \n",
       "69929               the mystery of the missing bracelets   \n",
       "\n",
       "                   book-author  year-of-publication               publisher  \\\n",
       "69915          ladybird series                 1982          ladybird books   \n",
       "69916  frances hodgson burnett                 1980      ladybird books ltd   \n",
       "69917          ladybird series                 1982      ladybird books ltd   \n",
       "69918          ladybird series                 1982           penguin u s a   \n",
       "69919          ladybird series                 1982      ladybird books ltd   \n",
       "69920             gwen tourret                 1984      ladybird books ltd   \n",
       "69921            l. frank baum                 1940           penguin u s a   \n",
       "69922            ver southgate                 1988           penguin u s a   \n",
       "69923                ed mcbain                 2001                  pocket   \n",
       "69924           miriam hodgson                 1993  egmont childrens books   \n",
       "69925           tony hutchings                 1997       modern publishing   \n",
       "69926            roy macgregor                 1995            screech owls   \n",
       "69927            paul hutchins                 1966                moody pr   \n",
       "69928            paul hutchins                 1971                moody pr   \n",
       "69929     dorothy mckay martin                 1980             moody press   \n",
       "\n",
       "       titleHasOpenBracket  \n",
       "69915                 True  \n",
       "69916                 True  \n",
       "69917                 True  \n",
       "69918                 True  \n",
       "69919                 True  \n",
       "69920                 True  \n",
       "69921                 True  \n",
       "69922                 True  \n",
       "69923                False  \n",
       "69924                False  \n",
       "69925                 True  \n",
       "69926                 True  \n",
       "69927                 True  \n",
       "69928                 True  \n",
       "69929                False  "
      ]
     },
     "execution_count": 84,
     "metadata": {
      "tags": []
     },
     "output_type": "execute_result"
    }
   ],
   "source": [
    "# Create a new column in the books_and_rating dataframe, \n",
    "# containing True for books whose titles has the open bracket \"(\" in them. \n",
    "# Name this column \"titleHasOpenBracket\". \n",
    "# Print out the last 15 rows of the modified dataframe. \n",
    "\n"
   ]
  },
  {
   "cell_type": "markdown",
   "metadata": {
    "colab_type": "text",
    "id": "4d9M2mbdwzgl"
   },
   "source": [
    "# END OF SECTION B"
   ]
  },
  {
   "cell_type": "code",
   "execution_count": null,
   "metadata": {
    "colab": {},
    "colab_type": "code",
    "id": "G376mz6ww1KI"
   },
   "outputs": [],
   "source": []
  }
 ],
 "metadata": {
  "colab": {
   "collapsed_sections": [],
   "name": "Section B_Pandas_ACTUAL_answers only.ipynb",
   "provenance": [],
   "version": "0.3.2"
  },
  "kernelspec": {
   "display_name": "Python 3",
   "language": "python",
   "name": "python3"
  },
  "language_info": {
   "codemirror_mode": {
    "name": "ipython",
    "version": 3
   },
   "file_extension": ".py",
   "mimetype": "text/x-python",
   "name": "python",
   "nbconvert_exporter": "python",
   "pygments_lexer": "ipython3",
   "version": "3.7.0"
  }
 },
 "nbformat": 4,
 "nbformat_minor": 2
}
